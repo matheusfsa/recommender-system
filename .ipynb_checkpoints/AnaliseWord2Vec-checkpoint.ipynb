{
 "cells": [
  {
   "cell_type": "code",
   "execution_count": 1,
   "metadata": {},
   "outputs": [],
   "source": [
    "import pandas as pd\n",
    "import numpy as np\n",
    "# Libraries for text preprocessing\n",
    "import re\n",
    "import nltk\n",
    "#nltk.download('stopwords')\n",
    "from nltk.corpus import stopwords\n",
    "from nltk.stem.porter import PorterStemmer\n",
    "from nltk.tokenize import RegexpTokenizer\n",
    "#nltk.download('wordnet')\n",
    "from nltk.stem.wordnet import WordNetLemmatizer\n",
    "from sklearn.feature_extraction.text import CountVectorizer\n",
    "from sklearn.feature_extraction.text import TfidfTransformer\n",
    "from sklearn.metrics.pairwise import cosine_similarity\n",
    "from sklearn.linear_model import LassoCV\n",
    "from sklearn.metrics import mean_squared_error\n",
    "import matplotlib.pyplot as plt\n",
    "from gensim.models import Doc2Vec\n",
    "from gensim.models.doc2vec import TaggedDocument"
   ]
  },
  {
   "cell_type": "code",
   "execution_count": 2,
   "metadata": {},
   "outputs": [
    {
     "data": {
      "text/plain": [
       "cast           281\n",
       "color          115\n",
       "directors      267\n",
       "genres           8\n",
       "movieId          0\n",
       "plots            0\n",
       "producers      986\n",
       "rating          12\n",
       "runtimes        54\n",
       "synopsis     18312\n",
       "title            0\n",
       "writers       1260\n",
       "year             0\n",
       "dtype: int64"
      ]
     },
     "execution_count": 2,
     "metadata": {},
     "output_type": "execute_result"
    }
   ],
   "source": [
    "df_movies = pd.read_csv('./datasets/movies_imdb.csv')\n",
    "df_movies.dropna(subset=['plots']).isna().sum()"
   ]
  },
  {
   "cell_type": "code",
   "execution_count": 3,
   "metadata": {},
   "outputs": [],
   "source": [
    "df_movies['plots'] = df_movies['plots'].apply(lambda x: str(x).replace(\"|\",\" \"))\n",
    "stop_words = set(stopwords.words(\"english\"))\n",
    "docs = []\n",
    "for i in range(0, df_movies.shape[0]):\n",
    "    #Remove punctuations\n",
    "    text = re.sub('[^a-zA-Z]', ' ', df_movies['plots'][i])\n",
    "    \n",
    "    #Convert to lowercase\n",
    "    text = text.lower()\n",
    "    \n",
    "    #remove tags\n",
    "    text=re.sub(\"&lt;/?.*?&gt;\",\" &lt;&gt; \",text)\n",
    "    \n",
    "    # remove special characters and digits\n",
    "    text=re.sub(\"(\\\\d|\\\\W)+\",\" \",text)\n",
    "    \n",
    "    ##Convert to list from string\n",
    "    text = text.split()\n",
    "    \n",
    "    ##Stemming\n",
    "    ps=PorterStemmer()\n",
    "    #Lemmatisation\n",
    "    lem = WordNetLemmatizer()\n",
    "    words = [lem.lemmatize(word) for word in text if not word in  \n",
    "            stop_words] \n",
    "    #text = \" \".join(text)\n",
    "    docs.append(words)"
   ]
  },
  {
   "cell_type": "code",
   "execution_count": 5,
   "metadata": {},
   "outputs": [],
   "source": [
    "from gensim.models.phrases import Phrases, Phraser\n",
    "phrases = Phrases(docs, min_count=30, progress_per=10000)"
   ]
  },
  {
   "cell_type": "code",
   "execution_count": 6,
   "metadata": {},
   "outputs": [
    {
     "data": {
      "text/plain": [
       "['cowboy',\n",
       " 'doll',\n",
       " 'profoundly',\n",
       " 'threatened',\n",
       " 'jealous',\n",
       " 'new',\n",
       " 'spaceman',\n",
       " 'figure',\n",
       " 'supplants',\n",
       " 'top',\n",
       " 'toy',\n",
       " 'boy',\n",
       " 'room',\n",
       " 'little',\n",
       " 'boy',\n",
       " 'named',\n",
       " 'andy',\n",
       " 'love',\n",
       " 'room',\n",
       " 'playing',\n",
       " 'toy',\n",
       " 'especially',\n",
       " 'doll',\n",
       " 'named',\n",
       " 'woody',\n",
       " 'toy',\n",
       " 'andy',\n",
       " 'come',\n",
       " 'life',\n",
       " 'woody',\n",
       " 'belief',\n",
       " 'life',\n",
       " 'toy',\n",
       " 'good',\n",
       " 'however',\n",
       " 'must',\n",
       " 'worry',\n",
       " 'andy',\n",
       " 'family',\n",
       " 'moving',\n",
       " 'woody',\n",
       " 'know',\n",
       " 'andy',\n",
       " 'birthday',\n",
       " 'party',\n",
       " 'woody',\n",
       " 'realize',\n",
       " 'andy',\n",
       " 'mother',\n",
       " 'gave',\n",
       " 'action',\n",
       " 'figure',\n",
       " 'known',\n",
       " 'buzz',\n",
       " 'lightyear',\n",
       " 'believe',\n",
       " 'toy',\n",
       " 'quickly',\n",
       " 'becomes',\n",
       " 'andy',\n",
       " 'new',\n",
       " 'favorite',\n",
       " 'toy',\n",
       " 'woody',\n",
       " 'consumed',\n",
       " 'jealousy',\n",
       " 'try',\n",
       " 'get',\n",
       " 'rid',\n",
       " 'buzz',\n",
       " 'woody',\n",
       " 'buzz',\n",
       " 'lost',\n",
       " 'must',\n",
       " 'find',\n",
       " 'way',\n",
       " 'get',\n",
       " 'back',\n",
       " 'andy',\n",
       " 'move',\n",
       " 'without',\n",
       " 'pas',\n",
       " 'ruthless',\n",
       " 'toy',\n",
       " 'killer',\n",
       " 'sid',\n",
       " 'phillips',\n",
       " 'woody',\n",
       " 'good',\n",
       " 'hearted',\n",
       " 'cowboy',\n",
       " 'doll',\n",
       " 'belongs',\n",
       " 'young',\n",
       " 'boy',\n",
       " 'named',\n",
       " 'andy',\n",
       " 'see',\n",
       " 'position',\n",
       " 'andy',\n",
       " 'favorite',\n",
       " 'toy',\n",
       " 'jeopardized',\n",
       " 'parent',\n",
       " 'buy',\n",
       " 'buzz',\n",
       " 'lightyear',\n",
       " 'action',\n",
       " 'figure',\n",
       " 'even',\n",
       " 'worse',\n",
       " 'arrogant',\n",
       " 'buzz',\n",
       " 'think',\n",
       " 'real',\n",
       " 'spaceman',\n",
       " 'mission',\n",
       " 'return',\n",
       " 'home',\n",
       " 'planet',\n",
       " 'andy',\n",
       " 'family',\n",
       " 'move',\n",
       " 'new',\n",
       " 'house',\n",
       " 'woody',\n",
       " 'buzz',\n",
       " 'must',\n",
       " 'escape',\n",
       " 'clutch',\n",
       " 'maladjusted',\n",
       " 'neighbor',\n",
       " 'sid',\n",
       " 'phillips',\n",
       " 'reunite',\n",
       " 'boy',\n",
       " 'toy',\n",
       " 'story',\n",
       " 'secret',\n",
       " 'life',\n",
       " 'toy',\n",
       " 'people',\n",
       " 'around',\n",
       " 'buzz',\n",
       " 'lightyear',\n",
       " 'space',\n",
       " 'ranger',\n",
       " 'take',\n",
       " 'woody',\n",
       " 'place',\n",
       " 'andy',\n",
       " 'favorite',\n",
       " 'toy',\n",
       " 'woody',\n",
       " 'like',\n",
       " 'situation',\n",
       " 'get',\n",
       " 'fight',\n",
       " 'buzz',\n",
       " 'accidentaly',\n",
       " 'buzz',\n",
       " 'fall',\n",
       " 'window',\n",
       " 'woody',\n",
       " 'accused',\n",
       " 'toy',\n",
       " 'killed',\n",
       " 'go',\n",
       " 'house',\n",
       " 'look',\n",
       " 'return',\n",
       " 'andys',\n",
       " 'room',\n",
       " 'outside',\n",
       " 'get',\n",
       " 'kind',\n",
       " 'trouble',\n",
       " 'trying',\n",
       " 'get',\n",
       " 'home',\n",
       " 'imagination',\n",
       " 'run',\n",
       " 'rampant',\n",
       " 'toy',\n",
       " 'become',\n",
       " 'mobile',\n",
       " 'watched',\n",
       " 'two',\n",
       " 'toy',\n",
       " 'woody',\n",
       " 'buzz',\n",
       " 'lightyear',\n",
       " 'despise',\n",
       " 'like',\n",
       " 'toy',\n",
       " 'separated',\n",
       " 'home',\n",
       " 'truce',\n",
       " 'formed',\n",
       " 'effort',\n",
       " 'journey',\n",
       " 'home',\n",
       " 'toy',\n",
       " 'named',\n",
       " 'woody',\n",
       " 'practically',\n",
       " 'leader',\n",
       " 'andy',\n",
       " 'toy',\n",
       " 'room',\n",
       " 'bo',\n",
       " 'peep',\n",
       " 'hots',\n",
       " 'importantly',\n",
       " 'andy',\n",
       " 'favorite',\n",
       " 'toy',\n",
       " 'clock',\n",
       " 'strike',\n",
       " 'andy',\n",
       " 'birthday',\n",
       " 'new',\n",
       " 'toy',\n",
       " 'arrives',\n",
       " 'buzz',\n",
       " 'lightyear',\n",
       " 'space',\n",
       " 'cadet',\n",
       " 'think',\n",
       " 'space',\n",
       " 'ranger',\n",
       " 'toy',\n",
       " 'room',\n",
       " 'instantly',\n",
       " 'win',\n",
       " 'andy',\n",
       " 'thus',\n",
       " 'becoming',\n",
       " 'andy',\n",
       " 'new',\n",
       " 'treasure',\n",
       " 'woody',\n",
       " 'accused',\n",
       " 'knocking',\n",
       " 'buzz',\n",
       " 'window',\n",
       " 'must',\n",
       " 'go',\n",
       " 'world',\n",
       " 'find',\n",
       " 'buzz',\n",
       " 'many',\n",
       " 'delay']"
      ]
     },
     "execution_count": 6,
     "metadata": {},
     "output_type": "execute_result"
    }
   ],
   "source": [
    "docs[0]"
   ]
  },
  {
   "cell_type": "code",
   "execution_count": 8,
   "metadata": {},
   "outputs": [],
   "source": [
    "sentences = phrases[docs]"
   ]
  },
  {
   "cell_type": "code",
   "execution_count": 11,
   "metadata": {},
   "outputs": [
    {
     "data": {
      "text/plain": [
       "['cowboy',\n",
       " 'doll',\n",
       " 'profoundly',\n",
       " 'threatened',\n",
       " 'jealous',\n",
       " 'new',\n",
       " 'spaceman',\n",
       " 'figure',\n",
       " 'supplants',\n",
       " 'top',\n",
       " 'toy',\n",
       " 'boy',\n",
       " 'room',\n",
       " 'little',\n",
       " 'boy_named',\n",
       " 'andy',\n",
       " 'love',\n",
       " 'room',\n",
       " 'playing',\n",
       " 'toy',\n",
       " 'especially',\n",
       " 'doll',\n",
       " 'named',\n",
       " 'woody',\n",
       " 'toy',\n",
       " 'andy',\n",
       " 'come',\n",
       " 'life',\n",
       " 'woody',\n",
       " 'belief',\n",
       " 'life',\n",
       " 'toy',\n",
       " 'good',\n",
       " 'however',\n",
       " 'must',\n",
       " 'worry',\n",
       " 'andy',\n",
       " 'family',\n",
       " 'moving',\n",
       " 'woody',\n",
       " 'know',\n",
       " 'andy',\n",
       " 'birthday_party',\n",
       " 'woody',\n",
       " 'realize',\n",
       " 'andy',\n",
       " 'mother',\n",
       " 'gave',\n",
       " 'action',\n",
       " 'figure',\n",
       " 'known',\n",
       " 'buzz',\n",
       " 'lightyear',\n",
       " 'believe',\n",
       " 'toy',\n",
       " 'quickly',\n",
       " 'becomes',\n",
       " 'andy',\n",
       " 'new',\n",
       " 'favorite',\n",
       " 'toy',\n",
       " 'woody',\n",
       " 'consumed',\n",
       " 'jealousy',\n",
       " 'try',\n",
       " 'get_rid',\n",
       " 'buzz',\n",
       " 'woody',\n",
       " 'buzz',\n",
       " 'lost',\n",
       " 'must',\n",
       " 'find_way',\n",
       " 'get',\n",
       " 'back',\n",
       " 'andy',\n",
       " 'move',\n",
       " 'without',\n",
       " 'pas',\n",
       " 'ruthless',\n",
       " 'toy',\n",
       " 'killer',\n",
       " 'sid',\n",
       " 'phillips',\n",
       " 'woody',\n",
       " 'good',\n",
       " 'hearted',\n",
       " 'cowboy',\n",
       " 'doll',\n",
       " 'belongs',\n",
       " 'young_boy',\n",
       " 'named',\n",
       " 'andy',\n",
       " 'see',\n",
       " 'position',\n",
       " 'andy',\n",
       " 'favorite',\n",
       " 'toy',\n",
       " 'jeopardized',\n",
       " 'parent',\n",
       " 'buy',\n",
       " 'buzz',\n",
       " 'lightyear',\n",
       " 'action',\n",
       " 'figure',\n",
       " 'even_worse',\n",
       " 'arrogant',\n",
       " 'buzz',\n",
       " 'think',\n",
       " 'real',\n",
       " 'spaceman',\n",
       " 'mission',\n",
       " 'return_home',\n",
       " 'planet',\n",
       " 'andy',\n",
       " 'family',\n",
       " 'move',\n",
       " 'new',\n",
       " 'house',\n",
       " 'woody',\n",
       " 'buzz',\n",
       " 'must',\n",
       " 'escape',\n",
       " 'clutch',\n",
       " 'maladjusted',\n",
       " 'neighbor',\n",
       " 'sid',\n",
       " 'phillips',\n",
       " 'reunite',\n",
       " 'boy',\n",
       " 'toy',\n",
       " 'story',\n",
       " 'secret',\n",
       " 'life',\n",
       " 'toy',\n",
       " 'people',\n",
       " 'around',\n",
       " 'buzz',\n",
       " 'lightyear',\n",
       " 'space',\n",
       " 'ranger',\n",
       " 'take',\n",
       " 'woody',\n",
       " 'place',\n",
       " 'andy',\n",
       " 'favorite',\n",
       " 'toy',\n",
       " 'woody',\n",
       " 'like',\n",
       " 'situation',\n",
       " 'get',\n",
       " 'fight',\n",
       " 'buzz',\n",
       " 'accidentaly',\n",
       " 'buzz',\n",
       " 'fall',\n",
       " 'window',\n",
       " 'woody',\n",
       " 'accused',\n",
       " 'toy',\n",
       " 'killed',\n",
       " 'go',\n",
       " 'house',\n",
       " 'look',\n",
       " 'return',\n",
       " 'andys',\n",
       " 'room',\n",
       " 'outside',\n",
       " 'get',\n",
       " 'kind',\n",
       " 'trouble',\n",
       " 'trying_get',\n",
       " 'home',\n",
       " 'imagination',\n",
       " 'run',\n",
       " 'rampant',\n",
       " 'toy',\n",
       " 'become',\n",
       " 'mobile',\n",
       " 'watched',\n",
       " 'two',\n",
       " 'toy',\n",
       " 'woody',\n",
       " 'buzz',\n",
       " 'lightyear',\n",
       " 'despise',\n",
       " 'like',\n",
       " 'toy',\n",
       " 'separated',\n",
       " 'home',\n",
       " 'truce',\n",
       " 'formed',\n",
       " 'effort',\n",
       " 'journey',\n",
       " 'home',\n",
       " 'toy',\n",
       " 'named',\n",
       " 'woody',\n",
       " 'practically',\n",
       " 'leader',\n",
       " 'andy',\n",
       " 'toy',\n",
       " 'room',\n",
       " 'bo',\n",
       " 'peep',\n",
       " 'hots',\n",
       " 'importantly',\n",
       " 'andy',\n",
       " 'favorite',\n",
       " 'toy',\n",
       " 'clock',\n",
       " 'strike',\n",
       " 'andy',\n",
       " 'birthday',\n",
       " 'new',\n",
       " 'toy',\n",
       " 'arrives',\n",
       " 'buzz',\n",
       " 'lightyear',\n",
       " 'space',\n",
       " 'cadet',\n",
       " 'think',\n",
       " 'space',\n",
       " 'ranger',\n",
       " 'toy',\n",
       " 'room',\n",
       " 'instantly',\n",
       " 'win',\n",
       " 'andy',\n",
       " 'thus',\n",
       " 'becoming',\n",
       " 'andy',\n",
       " 'new',\n",
       " 'treasure',\n",
       " 'woody',\n",
       " 'accused',\n",
       " 'knocking',\n",
       " 'buzz',\n",
       " 'window',\n",
       " 'must',\n",
       " 'go',\n",
       " 'world',\n",
       " 'find',\n",
       " 'buzz',\n",
       " 'many',\n",
       " 'delay']"
      ]
     },
     "execution_count": 11,
     "metadata": {},
     "output_type": "execute_result"
    }
   ],
   "source": [
    "sentences[0]"
   ]
  },
  {
   "cell_type": "code",
   "execution_count": 26,
   "metadata": {},
   "outputs": [
    {
     "data": {
      "text/plain": [
       "75313"
      ]
     },
     "execution_count": 26,
     "metadata": {},
     "output_type": "execute_result"
    }
   ],
   "source": [
    "\n",
    "word_freq = defaultdict(int)\n",
    "for sent in sentences:\n",
    "    for i in sent:\n",
    "        word_freq[i] += 1\n",
    "len(word_freq)"
   ]
  },
  {
   "cell_type": "code",
   "execution_count": 33,
   "metadata": {},
   "outputs": [
    {
     "data": {
      "text/plain": [
       "['life',\n",
       " 'one',\n",
       " 'find',\n",
       " 'get',\n",
       " 'two',\n",
       " 'family',\n",
       " 'man',\n",
       " 'friend',\n",
       " 'take',\n",
       " 'father']"
      ]
     },
     "execution_count": 33,
     "metadata": {},
     "output_type": "execute_result"
    }
   ],
   "source": [
    "from operator import itemgetter\n",
    "sorted(word_freq, key=word_freq.get, reverse=True)[:10]\n"
   ]
  },
  {
   "cell_type": "code",
   "execution_count": 34,
   "metadata": {},
   "outputs": [],
   "source": [
    "import multiprocessing\n",
    "\n",
    "from gensim.models import Word2Vec"
   ]
  },
  {
   "cell_type": "code",
   "execution_count": 35,
   "metadata": {},
   "outputs": [
    {
     "data": {
      "text/plain": [
       "8"
      ]
     },
     "execution_count": 35,
     "metadata": {},
     "output_type": "execute_result"
    }
   ],
   "source": [
    "cores = multiprocessing.cpu_count()\n",
    "cores"
   ]
  },
  {
   "cell_type": "code",
   "execution_count": 50,
   "metadata": {},
   "outputs": [
    {
     "name": "stdout",
     "output_type": "stream",
     "text": [
      "Time to build vocab: 0.32 mins\n"
     ]
    }
   ],
   "source": [
    "from time import time\n",
    "w2v_model = Word2Vec(min_count=20,\n",
    "                     window=2,\n",
    "                     size=300,\n",
    "                     sample=6e-5, \n",
    "                     alpha=0.03, \n",
    "                     min_alpha=0.0007, \n",
    "                     negative=20,\n",
    "                     workers=cores-1)\n",
    "t = time()\n",
    "\n",
    "w2v_model.build_vocab(sentences, progress_per=10000)\n",
    "\n",
    "print('Time to build vocab: {} mins'.format(round((time() - t) / 60, 2)))"
   ]
  },
  {
   "cell_type": "code",
   "execution_count": 51,
   "metadata": {},
   "outputs": [
    {
     "name": "stdout",
     "output_type": "stream",
     "text": [
      "Time to train the model: 8.19 mins\n"
     ]
    }
   ],
   "source": [
    "t = time()\n",
    "\n",
    "w2v_model.train(sentences, total_examples=w2v_model.corpus_count, epochs=30, report_delay=1)\n",
    "\n",
    "print('Time to train the model: {} mins'.format(round((time() - t) / 60, 2)))"
   ]
  },
  {
   "cell_type": "code",
   "execution_count": 52,
   "metadata": {},
   "outputs": [],
   "source": [
    "w2v_model.init_sims(replace=True)"
   ]
  },
  {
   "cell_type": "code",
   "execution_count": 55,
   "metadata": {},
   "outputs": [
    {
     "data": {
      "text/plain": [
       "[('best_friend', 0.5820000171661377),\n",
       " ('girlfriend', 0.42186182737350464),\n",
       " ('childhood_friend', 0.4153825044631958),\n",
       " ('bff', 0.4146702289581299),\n",
       " ('boyfriend', 0.408772349357605),\n",
       " ('acquaintance', 0.4053356349468231),\n",
       " ('pal', 0.39235299825668335),\n",
       " ('rhonda', 0.39014139771461487),\n",
       " ('close_friend', 0.37696152925491333),\n",
       " ('schoolmate', 0.3760896325111389)]"
      ]
     },
     "execution_count": 55,
     "metadata": {},
     "output_type": "execute_result"
    }
   ],
   "source": [
    "w2v_model.wv.most_similar(positive=[\"friend\"])"
   ]
  },
  {
   "cell_type": "code",
   "execution_count": 68,
   "metadata": {},
   "outputs": [],
   "source": [
    "span_plot = w2v_model.wv[[w for w in sentences[0] if w in w2v_model.wv.vocab]]"
   ]
  },
  {
   "cell_type": "code",
   "execution_count": 69,
   "metadata": {},
   "outputs": [
    {
     "data": {
      "text/plain": [
       "(244, 300)"
      ]
     },
     "execution_count": 69,
     "metadata": {},
     "output_type": "execute_result"
    }
   ],
   "source": [
    "span_plot.shape"
   ]
  },
  {
   "cell_type": "code",
   "execution_count": 71,
   "metadata": {},
   "outputs": [],
   "source": [
    "from sympy import *"
   ]
  },
  {
   "cell_type": "code",
   "execution_count": 72,
   "metadata": {},
   "outputs": [],
   "source": [
    "m = Matrix(span_plot)"
   ]
  },
  {
   "cell_type": "code",
   "execution_count": 73,
   "metadata": {},
   "outputs": [],
   "source": [
    "plot2m = m.rref()"
   ]
  },
  {
   "cell_type": "code",
   "execution_count": 79,
   "metadata": {},
   "outputs": [],
   "source": [
    "plot2m = np.array(plot2m[0]).astype(np.float64)"
   ]
  },
  {
   "cell_type": "code",
   "execution_count": 80,
   "metadata": {},
   "outputs": [
    {
     "data": {
      "text/plain": [
       "(244, 300)"
      ]
     },
     "execution_count": 80,
     "metadata": {},
     "output_type": "execute_result"
    }
   ],
   "source": [
    "plot2m.shape"
   ]
  },
  {
   "cell_type": "code",
   "execution_count": 85,
   "metadata": {},
   "outputs": [],
   "source": [
    "plot2m = plot2m[~np.all(plot2m == 0, axis=1)]"
   ]
  },
  {
   "cell_type": "code",
   "execution_count": 90,
   "metadata": {},
   "outputs": [
    {
     "data": {
      "text/plain": [
       "(300,)"
      ]
     },
     "execution_count": 90,
     "metadata": {},
     "output_type": "execute_result"
    }
   ],
   "source": [
    "np.sum(plot2m,axis=0).shape"
   ]
  },
  {
   "cell_type": "code",
   "execution_count": 129,
   "metadata": {},
   "outputs": [],
   "source": [
    "def plot2vecRref(plot):\n",
    "    span_plot = w2v_model.wv[[w for w in plot if w in w2v_model.wv.vocab]]\n",
    "    m = Matrix(span_plot.T)\n",
    "    plot2m = m.rref()\n",
    "    plot2m = np.array(plot2m[0]).astype(np.float64).T[:span_plot.shape[1]]\n",
    "    plot2m = plot2m[~np.all(plot2m == 0, axis=1)]\n",
    "    return np.sum(plot2m,axis=0)"
   ]
  },
  {
   "cell_type": "code",
   "execution_count": 130,
   "metadata": {},
   "outputs": [],
   "source": [
    "plot0rref= plot2vecRref(sentences[0])"
   ]
  },
  {
   "cell_type": "code",
   "execution_count": 133,
   "metadata": {},
   "outputs": [
    {
     "name": "stdout",
     "output_type": "stream",
     "text": [
      "Time to compute vector: 1.57 mins\n"
     ]
    }
   ],
   "source": [
    "t = time()\n",
    "plot1rref = plot2vecRref(sentences[1])\n",
    "print('Time to compute vector: {} mins'.format(round((time() - t) / 60, 2)))"
   ]
  },
  {
   "cell_type": "code",
   "execution_count": 132,
   "metadata": {},
   "outputs": [
    {
     "data": {
      "text/plain": [
       "array([[0.46489411]])"
      ]
     },
     "execution_count": 132,
     "metadata": {},
     "output_type": "execute_result"
    }
   ],
   "source": [
    "cosine_similarity(plot0rref.reshape(1,-1), plot1rref.reshape(1,-1))"
   ]
  },
  {
   "cell_type": "code",
   "execution_count": 122,
   "metadata": {},
   "outputs": [],
   "source": [
    "def plot2vecSum(plot):\n",
    "    span_plot = w2v_model.wv[[w for w in plot if w in w2v_model.wv.vocab]]\n",
    "    return np.sum(span_plot,axis=0)"
   ]
  },
  {
   "cell_type": "code",
   "execution_count": 125,
   "metadata": {},
   "outputs": [],
   "source": [
    "plot0 = plot2vecSum(sentences[0])\n",
    "plot1 = plot2vecSum(sentences[1])"
   ]
  },
  {
   "cell_type": "code",
   "execution_count": 128,
   "metadata": {},
   "outputs": [
    {
     "data": {
      "text/plain": [
       "array([[0.555506]], dtype=float32)"
      ]
     },
     "execution_count": 128,
     "metadata": {},
     "output_type": "execute_result"
    }
   ],
   "source": [
    " cosine_similarity(plot0.reshape(1,-1), plot1.reshape(1,-1))"
   ]
  },
  {
   "cell_type": "code",
   "execution_count": null,
   "metadata": {},
   "outputs": [],
   "source": []
  }
 ],
 "metadata": {
  "kernelspec": {
   "display_name": "Python 3",
   "language": "python",
   "name": "python3"
  },
  "language_info": {
   "codemirror_mode": {
    "name": "ipython",
    "version": 3
   },
   "file_extension": ".py",
   "mimetype": "text/x-python",
   "name": "python",
   "nbconvert_exporter": "python",
   "pygments_lexer": "ipython3",
   "version": "3.6.5"
  }
 },
 "nbformat": 4,
 "nbformat_minor": 2
}
