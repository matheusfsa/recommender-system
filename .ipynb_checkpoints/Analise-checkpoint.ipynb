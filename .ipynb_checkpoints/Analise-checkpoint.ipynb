{
 "cells": [
  {
   "cell_type": "code",
   "execution_count": 1,
   "metadata": {},
   "outputs": [],
   "source": [
    "import pandas as pd\n",
    "import numpy as np\n",
    "# Libraries for text preprocessing\n",
    "import re\n",
    "import nltk\n",
    "#nltk.download('stopwords')\n",
    "from nltk.corpus import stopwords\n",
    "from nltk.stem.porter import PorterStemmer\n",
    "from nltk.tokenize import RegexpTokenizer\n",
    "#nltk.download('wordnet')\n",
    "from nltk.stem.wordnet import WordNetLemmatizer\n",
    "from sklearn.feature_extraction.text import CountVectorizer\n",
    "from sklearn.feature_extraction.text import TfidfTransformer\n",
    "from sklearn.metrics.pairwise import cosine_similarity\n",
    "from sklearn.linear_model import LassoCV\n",
    "from sklearn.metrics import mean_squared_error\n",
    "import matplotlib.pyplot as plt\n",
    "from gensim.models import Doc2Vec\n"
   ]
  },
  {
   "cell_type": "code",
   "execution_count": 2,
   "metadata": {},
   "outputs": [],
   "source": [
    "df_movies = pd.read_csv('./datasets/movies_imdb.csv')"
   ]
  },
  {
   "cell_type": "code",
   "execution_count": 3,
   "metadata": {},
   "outputs": [
    {
     "data": {
      "text/html": [
       "<div>\n",
       "<style scoped>\n",
       "    .dataframe tbody tr th:only-of-type {\n",
       "        vertical-align: middle;\n",
       "    }\n",
       "\n",
       "    .dataframe tbody tr th {\n",
       "        vertical-align: top;\n",
       "    }\n",
       "\n",
       "    .dataframe thead th {\n",
       "        text-align: right;\n",
       "    }\n",
       "</style>\n",
       "<table border=\"1\" class=\"dataframe\">\n",
       "  <thead>\n",
       "    <tr style=\"text-align: right;\">\n",
       "      <th></th>\n",
       "      <th>cast</th>\n",
       "      <th>color</th>\n",
       "      <th>directors</th>\n",
       "      <th>genres</th>\n",
       "      <th>movieId</th>\n",
       "      <th>plots</th>\n",
       "      <th>producers</th>\n",
       "      <th>rating</th>\n",
       "      <th>runtimes</th>\n",
       "      <th>synopsis</th>\n",
       "      <th>title</th>\n",
       "      <th>writers</th>\n",
       "      <th>year</th>\n",
       "    </tr>\n",
       "  </thead>\n",
       "  <tbody>\n",
       "    <tr>\n",
       "      <th>0</th>\n",
       "      <td>Tom Hanks|Tim Allen|Don Rickles|Jim Varney|Wal...</td>\n",
       "      <td>Color::(Technicolor)</td>\n",
       "      <td>John Lasseter</td>\n",
       "      <td>Animation|Adventure|Comedy|Family|Fantasy</td>\n",
       "      <td>1</td>\n",
       "      <td>A cowboy doll is profoundly threatened and jea...</td>\n",
       "      <td>Bonnie Arnold|Ed Catmull|Ralph Guggenheim|Stev...</td>\n",
       "      <td>8.3</td>\n",
       "      <td>81.0</td>\n",
       "      <td>A boy called Andy Davis (voice: John Morris) u...</td>\n",
       "      <td>Toy Story</td>\n",
       "      <td>John Lasseter|Pete Docter|Andrew Stanton|Joe R...</td>\n",
       "      <td>1995.0</td>\n",
       "    </tr>\n",
       "    <tr>\n",
       "      <th>1</th>\n",
       "      <td>Robin Williams|Jonathan Hyde|Kirsten Dunst|Bra...</td>\n",
       "      <td>Color::(Technicolor)</td>\n",
       "      <td>Joe Johnston</td>\n",
       "      <td>Adventure|Comedy|Family|Fantasy</td>\n",
       "      <td>2</td>\n",
       "      <td>When two kids find and play a magical board ga...</td>\n",
       "      <td>Robert W. Cort|Ted Field|Larry Franco|Scott Kr...</td>\n",
       "      <td>7.0</td>\n",
       "      <td>104.0</td>\n",
       "      <td>The film begins in 1869 in the town of Brantfo...</td>\n",
       "      <td>Jumanji</td>\n",
       "      <td>Jonathan Hensleigh|Greg Taylor|Jim Strain|Greg...</td>\n",
       "      <td>1995.0</td>\n",
       "    </tr>\n",
       "    <tr>\n",
       "      <th>2</th>\n",
       "      <td>Walter Matthau|Jack Lemmon|Sophia Loren|Ann-Ma...</td>\n",
       "      <td>Color::(Technicolor)</td>\n",
       "      <td>Howard Deutch</td>\n",
       "      <td>Comedy|Romance</td>\n",
       "      <td>3</td>\n",
       "      <td>John and Max resolve to save their beloved bai...</td>\n",
       "      <td>Richard C. Berman|John Davis|George Folsey Jr....</td>\n",
       "      <td>6.7</td>\n",
       "      <td>101.0</td>\n",
       "      <td>NaN</td>\n",
       "      <td>Grumpier Old Men</td>\n",
       "      <td>Mark Steven Johnson|Mark Steven Johnson</td>\n",
       "      <td>1995.0</td>\n",
       "    </tr>\n",
       "    <tr>\n",
       "      <th>3</th>\n",
       "      <td>Whitney Houston|Angela Bassett|Loretta Devine|...</td>\n",
       "      <td>Color</td>\n",
       "      <td>Forest Whitaker</td>\n",
       "      <td>Comedy|Drama|Romance</td>\n",
       "      <td>4</td>\n",
       "      <td>Based on Terry McMillan's novel, this film fol...</td>\n",
       "      <td>Ronald Bass|Caron K|Terry McMillan|Deborah Sch...</td>\n",
       "      <td>5.9</td>\n",
       "      <td>124.0</td>\n",
       "      <td>NaN</td>\n",
       "      <td>Waiting to Exhale</td>\n",
       "      <td>Terry McMillan|Terry McMillan|Ronald Bass</td>\n",
       "      <td>1995.0</td>\n",
       "    </tr>\n",
       "    <tr>\n",
       "      <th>4</th>\n",
       "      <td>Steve Martin|Diane Keaton|Martin Short|Kimberl...</td>\n",
       "      <td>Color::(Technicolor)</td>\n",
       "      <td>Charles Shyer</td>\n",
       "      <td>Comedy|Family|Romance</td>\n",
       "      <td>5</td>\n",
       "      <td>George Banks must deal not only with the pregn...</td>\n",
       "      <td>Carol Baum|Bruce A. Block|Julie B. Crane|Jim C...</td>\n",
       "      <td>6.0</td>\n",
       "      <td>106.0</td>\n",
       "      <td>NaN</td>\n",
       "      <td>Father of the Bride Part II</td>\n",
       "      <td>Albert Hackett|Frances Goodrich|Nancy Meyers|C...</td>\n",
       "      <td>1995.0</td>\n",
       "    </tr>\n",
       "  </tbody>\n",
       "</table>\n",
       "</div>"
      ],
      "text/plain": [
       "                                                cast                 color  \\\n",
       "0  Tom Hanks|Tim Allen|Don Rickles|Jim Varney|Wal...  Color::(Technicolor)   \n",
       "1  Robin Williams|Jonathan Hyde|Kirsten Dunst|Bra...  Color::(Technicolor)   \n",
       "2  Walter Matthau|Jack Lemmon|Sophia Loren|Ann-Ma...  Color::(Technicolor)   \n",
       "3  Whitney Houston|Angela Bassett|Loretta Devine|...                 Color   \n",
       "4  Steve Martin|Diane Keaton|Martin Short|Kimberl...  Color::(Technicolor)   \n",
       "\n",
       "         directors                                     genres  movieId  \\\n",
       "0    John Lasseter  Animation|Adventure|Comedy|Family|Fantasy        1   \n",
       "1     Joe Johnston            Adventure|Comedy|Family|Fantasy        2   \n",
       "2    Howard Deutch                             Comedy|Romance        3   \n",
       "3  Forest Whitaker                       Comedy|Drama|Romance        4   \n",
       "4    Charles Shyer                      Comedy|Family|Romance        5   \n",
       "\n",
       "                                               plots  \\\n",
       "0  A cowboy doll is profoundly threatened and jea...   \n",
       "1  When two kids find and play a magical board ga...   \n",
       "2  John and Max resolve to save their beloved bai...   \n",
       "3  Based on Terry McMillan's novel, this film fol...   \n",
       "4  George Banks must deal not only with the pregn...   \n",
       "\n",
       "                                           producers  rating  runtimes  \\\n",
       "0  Bonnie Arnold|Ed Catmull|Ralph Guggenheim|Stev...     8.3      81.0   \n",
       "1  Robert W. Cort|Ted Field|Larry Franco|Scott Kr...     7.0     104.0   \n",
       "2  Richard C. Berman|John Davis|George Folsey Jr....     6.7     101.0   \n",
       "3  Ronald Bass|Caron K|Terry McMillan|Deborah Sch...     5.9     124.0   \n",
       "4  Carol Baum|Bruce A. Block|Julie B. Crane|Jim C...     6.0     106.0   \n",
       "\n",
       "                                            synopsis  \\\n",
       "0  A boy called Andy Davis (voice: John Morris) u...   \n",
       "1  The film begins in 1869 in the town of Brantfo...   \n",
       "2                                                NaN   \n",
       "3                                                NaN   \n",
       "4                                                NaN   \n",
       "\n",
       "                         title  \\\n",
       "0                    Toy Story   \n",
       "1                      Jumanji   \n",
       "2             Grumpier Old Men   \n",
       "3            Waiting to Exhale   \n",
       "4  Father of the Bride Part II   \n",
       "\n",
       "                                             writers    year  \n",
       "0  John Lasseter|Pete Docter|Andrew Stanton|Joe R...  1995.0  \n",
       "1  Jonathan Hensleigh|Greg Taylor|Jim Strain|Greg...  1995.0  \n",
       "2            Mark Steven Johnson|Mark Steven Johnson  1995.0  \n",
       "3          Terry McMillan|Terry McMillan|Ronald Bass  1995.0  \n",
       "4  Albert Hackett|Frances Goodrich|Nancy Meyers|C...  1995.0  "
      ]
     },
     "execution_count": 3,
     "metadata": {},
     "output_type": "execute_result"
    }
   ],
   "source": [
    "df_movies.head()"
   ]
  },
  {
   "cell_type": "code",
   "execution_count": 4,
   "metadata": {},
   "outputs": [
    {
     "data": {
      "text/plain": [
       "cast           310\n",
       "color          128\n",
       "directors      280\n",
       "genres          15\n",
       "movieId          0\n",
       "plots          366\n",
       "producers     1055\n",
       "rating          23\n",
       "runtimes        74\n",
       "synopsis     18641\n",
       "title            2\n",
       "writers       1328\n",
       "year             2\n",
       "dtype: int64"
      ]
     },
     "execution_count": 4,
     "metadata": {},
     "output_type": "execute_result"
    }
   ],
   "source": [
    "df_movies.isna().sum()"
   ]
  },
  {
   "cell_type": "code",
   "execution_count": 5,
   "metadata": {},
   "outputs": [
    {
     "data": {
      "text/plain": [
       "cast           281\n",
       "color          115\n",
       "directors      267\n",
       "genres           8\n",
       "movieId          0\n",
       "plots            0\n",
       "producers      986\n",
       "rating          12\n",
       "runtimes        54\n",
       "synopsis     18312\n",
       "title            0\n",
       "writers       1260\n",
       "year             0\n",
       "dtype: int64"
      ]
     },
     "execution_count": 5,
     "metadata": {},
     "output_type": "execute_result"
    }
   ],
   "source": [
    "df_movies.dropna(subset=['plots']).isna().sum()"
   ]
  },
  {
   "cell_type": "code",
   "execution_count": 6,
   "metadata": {},
   "outputs": [
    {
     "data": {
      "text/plain": [
       "'A cowboy doll is profoundly threatened and jealous when a new spaceman figure supplants him as top toy in a boy\\'s room.|A little boy named Andy loves to be in his room, playing with his toys, especially his doll named \"Woody\". But, what do the toys do when Andy is not with them, they come to life. Woody believes that his life (as a toy) is good. However, he must worry about Andy\\'s family moving, and what Woody does not know is about Andy\\'s birthday party. Woody does not realize that Andy\\'s mother gave him an action figure known as Buzz Lightyear, who does not believe that he is a toy, and quickly becomes Andy\\'s new favorite toy. Woody, who is now consumed with jealousy, tries to get rid of Buzz. Then, both Woody and Buzz are now lost. They must find a way to get back to Andy before he moves without them, but they will have to pass through a ruthless toy killer, Sid Phillips.|Woody, a good-hearted cowboy doll who belongs to a young boy named Andy, sees his position as Andy\\'s favorite toy jeopardized when his parents buy him a Buzz Lightyear action figure. Even worse, the arrogant Buzz thinks he\\'s a real spaceman on a mission to return to his home planet. When Andy\\'s family moves to a new house, Woody and Buzz must escape the clutches of maladjusted neighbor Sid Phillips and reunite with their boy.|Toy Story is about the \\'secret life of toys\\' when people are not around. When Buzz Lightyear, a space-ranger, takes Woody\\'s place as Andy\\'s favorite toy, Woody doesn\\'t like the situation and gets into a fight with Buzz. Accidentaly Buzz falls out the window and Woody is accused by all the other toys of having killed him. He has to go out of the house to look for him so that they can both return to Andys room. But while on the outside they get into all kind of trouble while trying to get home.|Imagination runs rampant when toys become mobile when not watched. Two toys, Woody and Buzz Lightyear despise each other like no other. But, when the toys are separated from their home, a truce is formed between them all in an effort to journey home.|A toy named Woody has it all. He is practically the leader in Andy\\'s toy room, Bo Peep has the hots for him, and most importantly, he is Andy\\'s favorite toy. But when the clocks strike Andy\\'s birthday, a new toy arrives. Buzz Lightyear, a space cadet who thinks he is a space ranger, (not a toy in a room) instantly wins over Andy, thus becoming Andy\\'s new treasure. But when Woody is accused of knocking Buzz out of the window, he must go into the world and find Buzz, with many delays...'"
      ]
     },
     "execution_count": 6,
     "metadata": {},
     "output_type": "execute_result"
    }
   ],
   "source": [
    "df_movies.loc[0,'plots']"
   ]
  },
  {
   "cell_type": "code",
   "execution_count": 7,
   "metadata": {},
   "outputs": [],
   "source": [
    "df_movies['plots'] = df_movies['plots'].apply(lambda x: str(x).replace(\"|\",\" \"))"
   ]
  },
  {
   "cell_type": "code",
   "execution_count": 8,
   "metadata": {},
   "outputs": [
    {
     "data": {
      "text/plain": [
       "'A cowboy doll is profoundly threatened and jealous when a new spaceman figure supplants him as top toy in a boy\\'s room. A little boy named Andy loves to be in his room, playing with his toys, especially his doll named \"Woody\". But, what do the toys do when Andy is not with them, they come to life. Woody believes that his life (as a toy) is good. However, he must worry about Andy\\'s family moving, and what Woody does not know is about Andy\\'s birthday party. Woody does not realize that Andy\\'s mother gave him an action figure known as Buzz Lightyear, who does not believe that he is a toy, and quickly becomes Andy\\'s new favorite toy. Woody, who is now consumed with jealousy, tries to get rid of Buzz. Then, both Woody and Buzz are now lost. They must find a way to get back to Andy before he moves without them, but they will have to pass through a ruthless toy killer, Sid Phillips. Woody, a good-hearted cowboy doll who belongs to a young boy named Andy, sees his position as Andy\\'s favorite toy jeopardized when his parents buy him a Buzz Lightyear action figure. Even worse, the arrogant Buzz thinks he\\'s a real spaceman on a mission to return to his home planet. When Andy\\'s family moves to a new house, Woody and Buzz must escape the clutches of maladjusted neighbor Sid Phillips and reunite with their boy. Toy Story is about the \\'secret life of toys\\' when people are not around. When Buzz Lightyear, a space-ranger, takes Woody\\'s place as Andy\\'s favorite toy, Woody doesn\\'t like the situation and gets into a fight with Buzz. Accidentaly Buzz falls out the window and Woody is accused by all the other toys of having killed him. He has to go out of the house to look for him so that they can both return to Andys room. But while on the outside they get into all kind of trouble while trying to get home. Imagination runs rampant when toys become mobile when not watched. Two toys, Woody and Buzz Lightyear despise each other like no other. But, when the toys are separated from their home, a truce is formed between them all in an effort to journey home. A toy named Woody has it all. He is practically the leader in Andy\\'s toy room, Bo Peep has the hots for him, and most importantly, he is Andy\\'s favorite toy. But when the clocks strike Andy\\'s birthday, a new toy arrives. Buzz Lightyear, a space cadet who thinks he is a space ranger, (not a toy in a room) instantly wins over Andy, thus becoming Andy\\'s new treasure. But when Woody is accused of knocking Buzz out of the window, he must go into the world and find Buzz, with many delays...'"
      ]
     },
     "execution_count": 8,
     "metadata": {},
     "output_type": "execute_result"
    }
   ],
   "source": [
    "df_movies.loc[0,'plots']"
   ]
  },
  {
   "cell_type": "code",
   "execution_count": 9,
   "metadata": {},
   "outputs": [],
   "source": [
    "df_movies['word_count'] = df_movies['plots'].apply(lambda x: len(str(x).split(\" \")))"
   ]
  },
  {
   "cell_type": "code",
   "execution_count": 10,
   "metadata": {},
   "outputs": [
    {
     "data": {
      "text/plain": [
       "count    27278.000000\n",
       "mean       179.821614\n",
       "std        166.364969\n",
       "min          1.000000\n",
       "25%         67.000000\n",
       "50%        125.000000\n",
       "75%        242.000000\n",
       "max       1895.000000\n",
       "Name: word_count, dtype: float64"
      ]
     },
     "execution_count": 10,
     "metadata": {},
     "output_type": "execute_result"
    }
   ],
   "source": [
    "df_movies['word_count'].describe()"
   ]
  },
  {
   "cell_type": "code",
   "execution_count": 11,
   "metadata": {},
   "outputs": [
    {
     "data": {
      "text/plain": [
       "<matplotlib.axes._subplots.AxesSubplot at 0x7f5c021eef28>"
      ]
     },
     "execution_count": 11,
     "metadata": {},
     "output_type": "execute_result"
    },
    {
     "data": {
      "image/png": "[encoded data removed]",
      "text/plain": [
       "<Figure size 432x288 with 1 Axes>"
      ]
     },
     "metadata": {
      "needs_background": "light"
     },
     "output_type": "display_data"
    }
   ],
   "source": [
    "df_movies.boxplot(column=\"word_count\")"
   ]
  },
  {
   "cell_type": "code",
   "execution_count": 12,
   "metadata": {},
   "outputs": [
    {
     "data": {
      "text/plain": [
       "count    219106.000000\n",
       "mean         22.387233\n",
       "std         947.855780\n",
       "min           1.000000\n",
       "25%           1.000000\n",
       "50%           1.000000\n",
       "75%           4.000000\n",
       "max      255111.000000\n",
       "dtype: float64"
      ]
     },
     "execution_count": 12,
     "metadata": {},
     "output_type": "execute_result"
    }
   ],
   "source": [
    "# Frequência das palavras\n",
    "freq = pd.Series(' '.join(df_movies['plots']).split()).value_counts()\n",
    "freq.describe()"
   ]
  },
  {
   "cell_type": "code",
   "execution_count": 13,
   "metadata": {},
   "outputs": [
    {
     "data": {
      "text/plain": [
       "the      255111\n",
       "to       160354\n",
       "a        159199\n",
       "and      152868\n",
       "of       123366\n",
       "in        85552\n",
       "is        79314\n",
       "his       75618\n",
       "with      48311\n",
       "he        44219\n",
       "her       42823\n",
       "that      38424\n",
       "for       36394\n",
       "who       31580\n",
       "on        29925\n",
       "by        28421\n",
       "as        26838\n",
       "an        26704\n",
       "their     25533\n",
       "has       23246\n",
       "dtype: int64"
      ]
     },
     "execution_count": 13,
     "metadata": {},
     "output_type": "execute_result"
    }
   ],
   "source": [
    "common = freq[:20]\n",
    "common"
   ]
  },
  {
   "cell_type": "code",
   "execution_count": 14,
   "metadata": {},
   "outputs": [
    {
     "data": {
      "text/plain": [
       "speedboats.        1\n",
       "darkens            1\n",
       "language:          1\n",
       "Teek               1\n",
       "\"Devil'Rejects\"    1\n",
       "cowed              1\n",
       "grumble            1\n",
       "Czakyr.            1\n",
       "Roache)            1\n",
       "outmatch           1\n",
       "tourism-center     1\n",
       "Bergner's          1\n",
       "movieola           1\n",
       "credit!            1\n",
       "abandon..          1\n",
       "(Tatiana           1\n",
       "fleeing,           1\n",
       "clandestine.       1\n",
       "Leep               1\n",
       "Alberta's          1\n",
       "dtype: int64"
      ]
     },
     "execution_count": 14,
     "metadata": {},
     "output_type": "execute_result"
    }
   ],
   "source": [
    "#Identify uncommon words\n",
    "uncommon =  freq[-20:]\n",
    "uncommon"
   ]
  },
  {
   "cell_type": "code",
   "execution_count": 15,
   "metadata": {},
   "outputs": [],
   "source": [
    "##Creating a list of stop words and adding custom stopwords\n",
    "#nltk.download('wordnet')\n",
    "#nltk.download('stopwords')\n",
    "stop_words = set(stopwords.words(\"english\"))"
   ]
  },
  {
   "cell_type": "code",
   "execution_count": 16,
   "metadata": {},
   "outputs": [],
   "source": [
    "corpus = []\n",
    "for i in range(0, df_movies.shape[0]):\n",
    "    #Remove punctuations\n",
    "    text = re.sub('[^a-zA-Z]', ' ', df_movies['plots'][i])\n",
    "    \n",
    "    #Convert to lowercase\n",
    "    text = text.lower()\n",
    "    \n",
    "    #remove tags\n",
    "    text=re.sub(\"&lt;/?.*?&gt;\",\" &lt;&gt; \",text)\n",
    "    \n",
    "    # remove special characters and digits\n",
    "    text=re.sub(\"(\\\\d|\\\\W)+\",\" \",text)\n",
    "    \n",
    "    ##Convert to list from string\n",
    "    text = text.split()\n",
    "    \n",
    "    ##Stemming\n",
    "    ps=PorterStemmer()\n",
    "    #Lemmatisation\n",
    "    lem = WordNetLemmatizer()\n",
    "    text = [lem.lemmatize(word) for word in text if not word in  \n",
    "            stop_words] \n",
    "    text = \" \".join(text)\n",
    "    corpus.append(text)"
   ]
  },
  {
   "cell_type": "code",
   "execution_count": 17,
   "metadata": {},
   "outputs": [
    {
     "data": {
      "text/plain": [
       "'cowboy doll profoundly threatened jealous new spaceman figure supplants top toy boy room little boy named andy love room playing toy especially doll named woody toy andy come life woody belief life toy good however must worry andy family moving woody know andy birthday party woody realize andy mother gave action figure known buzz lightyear believe toy quickly becomes andy new favorite toy woody consumed jealousy try get rid buzz woody buzz lost must find way get back andy move without pas ruthless toy killer sid phillips woody good hearted cowboy doll belongs young boy named andy see position andy favorite toy jeopardized parent buy buzz lightyear action figure even worse arrogant buzz think real spaceman mission return home planet andy family move new house woody buzz must escape clutch maladjusted neighbor sid phillips reunite boy toy story secret life toy people around buzz lightyear space ranger take woody place andy favorite toy woody like situation get fight buzz accidentaly buzz fall window woody accused toy killed go house look return andys room outside get kind trouble trying get home imagination run rampant toy become mobile watched two toy woody buzz lightyear despise like toy separated home truce formed effort journey home toy named woody practically leader andy toy room bo peep hots importantly andy favorite toy clock strike andy birthday new toy arrives buzz lightyear space cadet think space ranger toy room instantly win andy thus becoming andy new treasure woody accused knocking buzz window must go world find buzz many delay'"
      ]
     },
     "execution_count": 17,
     "metadata": {},
     "output_type": "execute_result"
    }
   ],
   "source": [
    "corpus[0]"
   ]
  },
  {
   "cell_type": "code",
   "execution_count": 18,
   "metadata": {},
   "outputs": [
    {
     "name": "stdout",
     "output_type": "stream",
     "text": [
      "<wordcloud.wordcloud.WordCloud object at 0x7f5bf08b0940>\n"
     ]
    },
    {
     "data": {
      "image/png": "[encoded data removed]",
      "text/plain": [
       "<Figure size 432x288 with 1 Axes>"
      ]
     },
     "metadata": {
      "needs_background": "light"
     },
     "output_type": "display_data"
    }
   ],
   "source": [
    "#Word cloud\n",
    "from os import path\n",
    "from PIL import Image\n",
    "from wordcloud import WordCloud, STOPWORDS, ImageColorGenerator\n",
    "import matplotlib.pyplot as plt\n",
    "\n",
    "wordcloud = WordCloud(\n",
    "                          background_color='white',\n",
    "                          stopwords=stop_words,\n",
    "                          max_words=100,\n",
    "                          max_font_size=50, \n",
    "                          random_state=42\n",
    "                         ).generate(str(corpus))\n",
    "print(wordcloud)\n",
    "fig = plt.figure(1)\n",
    "plt.imshow(wordcloud)\n",
    "plt.axis('off')\n",
    "plt.show()\n",
    "fig.savefig(\"word1.png\", dpi=900)"
   ]
  },
  {
   "cell_type": "code",
   "execution_count": 22,
   "metadata": {},
   "outputs": [
    {
     "data": {
      "text/plain": [
       "(27278, 10000)"
      ]
     },
     "execution_count": 22,
     "metadata": {},
     "output_type": "execute_result"
    }
   ],
   "source": [
    "cv=CountVectorizer(max_df=0.8,stop_words=stop_words, max_features=10000, ngram_range=(2,3))\n",
    "X=cv.fit_transform(corpus)\n",
    "X.shape"
   ]
  },
  {
   "cell_type": "code",
   "execution_count": 23,
   "metadata": {},
   "outputs": [
    {
     "data": {
      "text/plain": [
       "['little boy',\n",
       " 'boy named',\n",
       " 'come life',\n",
       " 'belief life',\n",
       " 'however must',\n",
       " 'birthday party',\n",
       " 'action figure',\n",
       " 'quickly becomes',\n",
       " 'try get',\n",
       " 'get rid']"
      ]
     },
     "execution_count": 23,
     "metadata": {},
     "output_type": "execute_result"
    }
   ],
   "source": [
    "list(cv.vocabulary_.keys())[:10]"
   ]
  },
  {
   "cell_type": "code",
   "execution_count": 24,
   "metadata": {},
   "outputs": [
    {
     "data": {
      "text/plain": [
       "[Text(0, 0, 'life'),\n",
       " Text(0, 0, 'one'),\n",
       " Text(0, 0, 'find'),\n",
       " Text(0, 0, 'get'),\n",
       " Text(0, 0, 'year'),\n",
       " Text(0, 0, 'new'),\n",
       " Text(0, 0, 'man'),\n",
       " Text(0, 0, 'friend'),\n",
       " Text(0, 0, 'love'),\n",
       " Text(0, 0, 'two'),\n",
       " Text(0, 0, 'young'),\n",
       " Text(0, 0, 'family'),\n",
       " Text(0, 0, 'woman'),\n",
       " Text(0, 0, 'take'),\n",
       " Text(0, 0, 'time'),\n",
       " Text(0, 0, 'go'),\n",
       " Text(0, 0, 'world'),\n",
       " Text(0, 0, 'father'),\n",
       " Text(0, 0, 'old'),\n",
       " Text(0, 0, 'wife')]"
      ]
     },
     "execution_count": 24,
     "metadata": {},
     "output_type": "execute_result"
    },
    {
     "data": {
      "image/png": "[encoded data removed]",
      "text/plain": [
       "<Figure size 936x576 with 1 Axes>"
      ]
     },
     "metadata": {},
     "output_type": "display_data"
    }
   ],
   "source": [
    "#Most frequently occuring words\n",
    "def get_top_n_words(corpus, n=None):\n",
    "    vec = CountVectorizer().fit(corpus)\n",
    "    bag_of_words = vec.transform(corpus)\n",
    "    sum_words = bag_of_words.sum(axis=0) \n",
    "    words_freq = [(word, sum_words[0, idx]) for word, idx in      \n",
    "                   vec.vocabulary_.items()]\n",
    "    words_freq =sorted(words_freq, key = lambda x: x[1], \n",
    "                       reverse=True)\n",
    "    return words_freq[:n]\n",
    "#Convert most freq words to dataframe for plotting bar plot\n",
    "top_words = get_top_n_words(corpus, n=20)\n",
    "top_df = pd.DataFrame(top_words)\n",
    "top_df.columns=[\"Word\", \"Freq\"]\n",
    "#Barplot of most freq words\n",
    "import seaborn as sns\n",
    "sns.set(rc={'figure.figsize':(13,8)})\n",
    "g = sns.barplot(x=\"Word\", y=\"Freq\", data=top_df)\n",
    "g.set_xticklabels(g.get_xticklabels(), rotation=30)"
   ]
  },
  {
   "cell_type": "code",
   "execution_count": 25,
   "metadata": {},
   "outputs": [
    {
     "name": "stdout",
     "output_type": "stream",
     "text": [
      "         Bi-gram  Freq\n",
      "0       year old  3248\n",
      "1       new york  3131\n",
      "2      fall love  2133\n",
      "3    high school  1631\n",
      "4    best friend  1518\n",
      "5    young woman  1465\n",
      "6      world war  1227\n",
      "7      young man  1146\n",
      "8        one day  1113\n",
      "9      york city  1099\n",
      "10   los angeles  1048\n",
      "11    year later   974\n",
      "12    small town   921\n",
      "13        war ii   752\n",
      "14     one night   718\n",
      "15      year ago   690\n",
      "16  united state   654\n",
      "17     along way   595\n",
      "18    th century   549\n",
      "19      find way   546\n"
     ]
    },
    {
     "data": {
      "text/plain": [
       "[Text(0, 0, 'year old'),\n",
       " Text(0, 0, 'new york'),\n",
       " Text(0, 0, 'fall love'),\n",
       " Text(0, 0, 'high school'),\n",
       " Text(0, 0, 'best friend'),\n",
       " Text(0, 0, 'young woman'),\n",
       " Text(0, 0, 'world war'),\n",
       " Text(0, 0, 'young man'),\n",
       " Text(0, 0, 'one day'),\n",
       " Text(0, 0, 'york city'),\n",
       " Text(0, 0, 'los angeles'),\n",
       " Text(0, 0, 'year later'),\n",
       " Text(0, 0, 'small town'),\n",
       " Text(0, 0, 'war ii'),\n",
       " Text(0, 0, 'one night'),\n",
       " Text(0, 0, 'year ago'),\n",
       " Text(0, 0, 'united state'),\n",
       " Text(0, 0, 'along way'),\n",
       " Text(0, 0, 'th century'),\n",
       " Text(0, 0, 'find way')]"
      ]
     },
     "execution_count": 25,
     "metadata": {},
     "output_type": "execute_result"
    },
    {
     "data": {
      "image/png": "[encoded data removed]",
      "text/plain": [
       "<Figure size 936x576 with 1 Axes>"
      ]
     },
     "metadata": {},
     "output_type": "display_data"
    }
   ],
   "source": [
    "#Most frequently occuring Bi-grams\n",
    "def get_top_n2_words(corpus, n=None):\n",
    "    vec1 = CountVectorizer(ngram_range=(2,2),  \n",
    "            max_features=2000).fit(corpus)\n",
    "    bag_of_words = vec1.transform(corpus)\n",
    "    sum_words = bag_of_words.sum(axis=0) \n",
    "    words_freq = [(word, sum_words[0, idx]) for word, idx in     \n",
    "                  vec1.vocabulary_.items()]\n",
    "    words_freq =sorted(words_freq, key = lambda x: x[1], \n",
    "                reverse=True)\n",
    "    return words_freq[:n]\n",
    "top2_words = get_top_n2_words(corpus, n=20)\n",
    "top2_df = pd.DataFrame(top2_words)\n",
    "top2_df.columns=[\"Bi-gram\", \"Freq\"]\n",
    "print(top2_df)\n",
    "#Barplot of most freq Bi-grams\n",
    "import seaborn as sns\n",
    "sns.set(rc={'figure.figsize':(13,8)})\n",
    "h=sns.barplot(x=\"Bi-gram\", y=\"Freq\", data=top2_df)\n",
    "h.set_xticklabels(h.get_xticklabels(), rotation=45)"
   ]
  },
  {
   "cell_type": "code",
   "execution_count": 26,
   "metadata": {},
   "outputs": [
    {
     "name": "stdout",
     "output_type": "stream",
     "text": [
      "               Tri-gram  Freq\n",
      "0         new york city  1099\n",
      "1          world war ii   750\n",
      "2     year old daughter   220\n",
      "3      based true story   202\n",
      "4         year old girl   199\n",
      "5          year old son   195\n",
      "6          year old boy   184\n",
      "7   high school student   170\n",
      "8       one night stand   152\n",
      "9        eight year old   118\n",
      "10   seventeen year old   117\n",
      "11        must find way   115\n",
      "12   high school senior   105\n",
      "13       start new life   103\n",
      "14   next door neighbor   100\n",
      "15         ten year old   100\n",
      "16      twelve year old    98\n",
      "17     love first sight    92\n",
      "18       seven year old    90\n",
      "19     second world war    88\n"
     ]
    },
    {
     "data": {
      "text/plain": [
       "[Text(0, 0, 'new york city'),\n",
       " Text(0, 0, 'world war ii'),\n",
       " Text(0, 0, 'year old daughter'),\n",
       " Text(0, 0, 'based true story'),\n",
       " Text(0, 0, 'year old girl'),\n",
       " Text(0, 0, 'year old son'),\n",
       " Text(0, 0, 'year old boy'),\n",
       " Text(0, 0, 'high school student'),\n",
       " Text(0, 0, 'one night stand'),\n",
       " Text(0, 0, 'eight year old'),\n",
       " Text(0, 0, 'seventeen year old'),\n",
       " Text(0, 0, 'must find way'),\n",
       " Text(0, 0, 'high school senior'),\n",
       " Text(0, 0, 'start new life'),\n",
       " Text(0, 0, 'next door neighbor'),\n",
       " Text(0, 0, 'ten year old'),\n",
       " Text(0, 0, 'twelve year old'),\n",
       " Text(0, 0, 'love first sight'),\n",
       " Text(0, 0, 'seven year old'),\n",
       " Text(0, 0, 'second world war')]"
      ]
     },
     "execution_count": 26,
     "metadata": {},
     "output_type": "execute_result"
    },
    {
     "data": {
      "image/png": "[encoded data removed]",
      "text/plain": [
       "<Figure size 936x576 with 1 Axes>"
      ]
     },
     "metadata": {},
     "output_type": "display_data"
    }
   ],
   "source": [
    "#Most frequently occuring Tri-grams\n",
    "def get_top_n3_words(corpus, n=None):\n",
    "    vec1 = CountVectorizer(ngram_range=(3,3), \n",
    "           max_features=2000).fit(corpus)\n",
    "    bag_of_words = vec1.transform(corpus)\n",
    "    sum_words = bag_of_words.sum(axis=0) \n",
    "    words_freq = [(word, sum_words[0, idx]) for word, idx in     \n",
    "                  vec1.vocabulary_.items()]\n",
    "    words_freq =sorted(words_freq, key = lambda x: x[1], \n",
    "                reverse=True)\n",
    "    return words_freq[:n]\n",
    "top3_words = get_top_n3_words(corpus, n=20)\n",
    "top3_df = pd.DataFrame(top3_words)\n",
    "top3_df.columns=[\"Tri-gram\", \"Freq\"]\n",
    "print(top3_df)\n",
    "#Barplot of most freq Tri-grams\n",
    "import seaborn as sns\n",
    "sns.set(rc={'figure.figsize':(13,8)})\n",
    "j=sns.barplot(x=\"Tri-gram\", y=\"Freq\", data=top3_df)\n",
    "j.set_xticklabels(j.get_xticklabels(), rotation=45)"
   ]
  },
  {
   "cell_type": "code",
   "execution_count": 27,
   "metadata": {},
   "outputs": [],
   "source": [
    "genres = df_movies['genres'].str.get_dummies()"
   ]
  },
  {
   "cell_type": "code",
   "execution_count": 35,
   "metadata": {},
   "outputs": [
    {
     "data": {
      "text/plain": [
       "(27278, 10000)"
      ]
     },
     "execution_count": 35,
     "metadata": {},
     "output_type": "execute_result"
    }
   ],
   "source": [
    "X.shape"
   ]
  },
  {
   "cell_type": "code",
   "execution_count": 36,
   "metadata": {},
   "outputs": [
    {
     "data": {
      "text/plain": [
       "(27278, 27)"
      ]
     },
     "execution_count": 36,
     "metadata": {},
     "output_type": "execute_result"
    }
   ],
   "source": [
    "y = genres.values\n",
    "y.shape"
   ]
  },
  {
   "cell_type": "code",
   "execution_count": 37,
   "metadata": {},
   "outputs": [
    {
     "data": {
      "text/plain": [
       "<torch._C.Generator at 0x7f5bce85eb90>"
      ]
     },
     "execution_count": 37,
     "metadata": {},
     "output_type": "execute_result"
    }
   ],
   "source": [
    "import torch\n",
    "from torch.autograd import Variable\n",
    "import numpy as np\n",
    "import torch.nn as nn\n",
    "import torch.nn.functional as F\n",
    "import torch.optim as optim\n",
    "torch.manual_seed(1)\n"
   ]
  },
  {
   "cell_type": "code",
   "execution_count": 38,
   "metadata": {},
   "outputs": [
    {
     "name": "stdout",
     "output_type": "stream",
     "text": [
      "(27278, 10000)\n",
      "loss in epoch 0 : 0.06926343479087085\n",
      "loss in epoch 1 : 0.0007146275983107906\n",
      "loss in epoch 2 : 0.0003856354082326913\n",
      "loss in epoch 3 : 0.00026126004860147997\n",
      "loss in epoch 4 : 0.00019633619504715293\n",
      "[0.06926343479087085, 0.0007146275983107906, 0.0003856354082326913, 0.00026126004860147997, 0.00019633619504715293]\n"
     ]
    }
   ],
   "source": [
    "\n",
    "class Plot2Vec(nn.Module):\n",
    "\n",
    "    def __init__(self, vocab_size, embedding_dim, genres_size):\n",
    "        super(Plot2Vec, self).__init__()\n",
    "        self.linear1 = nn.Linear(vocab_size, embedding_dim)\n",
    "        self.linear2 = nn.Linear(embedding_dim, genres_size)\n",
    "\n",
    "    def forward(self, inputs):\n",
    "        out = F.relu(self.linear1(inputs))\n",
    "        out =  F.relu(self.linear2(out))\n",
    "        log_probs = F.log_softmax(out, dim=1)\n",
    "        return log_probs\n",
    "\n",
    "losses = []\n",
    "loss_function = nn.NLLLoss()\n",
    "model = Plot2Vec(X.shape[1], 100, y.shape[1])\n",
    "optimizer = optim.SGD(model.parameters(), lr=0.001)\n",
    "#X = X[:1000, :]\n",
    "print(X.shape)\n",
    "for epoch in range(5):\n",
    "    total_loss = 0\n",
    "    for i in range(X.shape[0]):\n",
    "        genres = np.where(y[i] == 1)[0]\n",
    "        for j in genres:\n",
    "            # Step 1. Prepare the inputs to be passed to the model (i.e, turn the words\n",
    "            # into integer indices and wrap them in tensors)\n",
    "            movie_idxs = torch.tensor(X[i].toarray(), dtype=torch.float)\n",
    "            # Step 2. Recall that torch *accumulates* gradients. Before passing in a\n",
    "            # new instance, you need to zero out the gradients from the old\n",
    "            # instance\n",
    "            model.zero_grad()\n",
    "            # Step 3. Run the forward pass, getting log probabilities over next\n",
    "            # words\n",
    "            log_probs = model(movie_idxs)\n",
    "             # Step 4. Compute your loss function. (Again, Torch wants the target\n",
    "            # wrapped in a tensor)\n",
    "            loss = loss_function(log_probs, torch.tensor(y[i, j].reshape(1), dtype=torch.long))\n",
    "            # Step 5. Do the backward pass and update the gradient\n",
    "            loss.backward()\n",
    "            optimizer.step()\n",
    "            #print(loss.item()*1/genres.shape[0])\n",
    "            # Get the Python number from a 1-element Tensor by calling tensor.item()\n",
    "            total_loss += loss.item()*1/genres.shape[0]\n",
    "    total_loss /= X.shape[0]\n",
    "    losses.append(total_loss)\n",
    "    print('loss in epoch', epoch, ':', total_loss)\n",
    "print(losses)  "
   ]
  },
  {
   "cell_type": "code",
   "execution_count": 39,
   "metadata": {},
   "outputs": [],
   "source": [
    "X_emb = Variable(F.relu(model.linear1(torch.tensor(X.toarray(), dtype=torch.float)))).numpy()"
   ]
  },
  {
   "cell_type": "code",
   "execution_count": 40,
   "metadata": {},
   "outputs": [
    {
     "data": {
      "text/plain": [
       "(27278, 100)"
      ]
     },
     "execution_count": 40,
     "metadata": {},
     "output_type": "execute_result"
    }
   ],
   "source": [
    "X_emb.shape"
   ]
  },
  {
   "cell_type": "code",
   "execution_count": 44,
   "metadata": {},
   "outputs": [],
   "source": [
    "from sklearn.metrics.pairwise import cosine_similarity\n",
    "cos_s = cosine_similarity(X_emb[0].reshape(1,-1), X_emb)"
   ]
  },
  {
   "cell_type": "code",
   "execution_count": 45,
   "metadata": {},
   "outputs": [],
   "source": [
    "df_sim = pd.DataFrame(cos_s.T, index=df_movies['title'])"
   ]
  },
  {
   "cell_type": "code",
   "execution_count": 46,
   "metadata": {},
   "outputs": [
    {
     "data": {
      "text/html": [
       "<div>\n",
       "<style scoped>\n",
       "    .dataframe tbody tr th:only-of-type {\n",
       "        vertical-align: middle;\n",
       "    }\n",
       "\n",
       "    .dataframe tbody tr th {\n",
       "        vertical-align: top;\n",
       "    }\n",
       "\n",
       "    .dataframe thead th {\n",
       "        text-align: right;\n",
       "    }\n",
       "</style>\n",
       "<table border=\"1\" class=\"dataframe\">\n",
       "  <thead>\n",
       "    <tr style=\"text-align: right;\">\n",
       "      <th></th>\n",
       "      <th>0</th>\n",
       "    </tr>\n",
       "    <tr>\n",
       "      <th>title</th>\n",
       "      <th></th>\n",
       "    </tr>\n",
       "  </thead>\n",
       "  <tbody>\n",
       "    <tr>\n",
       "      <th>Toy Story</th>\n",
       "      <td>1.000000</td>\n",
       "    </tr>\n",
       "    <tr>\n",
       "      <th>The Minister</th>\n",
       "      <td>0.997950</td>\n",
       "    </tr>\n",
       "    <tr>\n",
       "      <th>Parents</th>\n",
       "      <td>0.997948</td>\n",
       "    </tr>\n",
       "    <tr>\n",
       "      <th>I Want You</th>\n",
       "      <td>0.997911</td>\n",
       "    </tr>\n",
       "    <tr>\n",
       "      <th>Carry On Spying</th>\n",
       "      <td>0.997907</td>\n",
       "    </tr>\n",
       "    <tr>\n",
       "      <th>Hotel</th>\n",
       "      <td>0.997856</td>\n",
       "    </tr>\n",
       "    <tr>\n",
       "      <th>Dinosaurus!</th>\n",
       "      <td>0.997852</td>\n",
       "    </tr>\n",
       "    <tr>\n",
       "      <th>Time Bandits</th>\n",
       "      <td>0.997819</td>\n",
       "    </tr>\n",
       "    <tr>\n",
       "      <th>Victor and the Secret of Crocodile Mansion</th>\n",
       "      <td>0.997819</td>\n",
       "    </tr>\n",
       "    <tr>\n",
       "      <th>DarkWolf</th>\n",
       "      <td>0.997808</td>\n",
       "    </tr>\n",
       "    <tr>\n",
       "      <th>She Cried No</th>\n",
       "      <td>0.997806</td>\n",
       "    </tr>\n",
       "    <tr>\n",
       "      <th>The Great Yokai War</th>\n",
       "      <td>0.997791</td>\n",
       "    </tr>\n",
       "    <tr>\n",
       "      <th>Little Nemo: Adventures in Slumberland</th>\n",
       "      <td>0.997773</td>\n",
       "    </tr>\n",
       "    <tr>\n",
       "      <th>Gang Related</th>\n",
       "      <td>0.997773</td>\n",
       "    </tr>\n",
       "    <tr>\n",
       "      <th>Valley of the Bees</th>\n",
       "      <td>0.997763</td>\n",
       "    </tr>\n",
       "    <tr>\n",
       "      <th>Warriors of Virtue</th>\n",
       "      <td>0.997720</td>\n",
       "    </tr>\n",
       "    <tr>\n",
       "      <th>Paid</th>\n",
       "      <td>0.997715</td>\n",
       "    </tr>\n",
       "    <tr>\n",
       "      <th>The We and the I</th>\n",
       "      <td>0.997704</td>\n",
       "    </tr>\n",
       "    <tr>\n",
       "      <th>The Bedroom Window</th>\n",
       "      <td>0.997698</td>\n",
       "    </tr>\n",
       "    <tr>\n",
       "      <th>Over Your Dead Body</th>\n",
       "      <td>0.997697</td>\n",
       "    </tr>\n",
       "    <tr>\n",
       "      <th>Cujo</th>\n",
       "      <td>0.997688</td>\n",
       "    </tr>\n",
       "    <tr>\n",
       "      <th>Dealer</th>\n",
       "      <td>0.997688</td>\n",
       "    </tr>\n",
       "    <tr>\n",
       "      <th>Spine Tingler! The William Castle Story</th>\n",
       "      <td>0.997682</td>\n",
       "    </tr>\n",
       "    <tr>\n",
       "      <th>The Riot Club</th>\n",
       "      <td>0.997677</td>\n",
       "    </tr>\n",
       "    <tr>\n",
       "      <th>Son of Babylon</th>\n",
       "      <td>0.997672</td>\n",
       "    </tr>\n",
       "    <tr>\n",
       "      <th>Watch the Birdie</th>\n",
       "      <td>0.997657</td>\n",
       "    </tr>\n",
       "    <tr>\n",
       "      <th>A Monkey's Tale</th>\n",
       "      <td>0.997653</td>\n",
       "    </tr>\n",
       "    <tr>\n",
       "      <th>The Wife</th>\n",
       "      <td>0.997650</td>\n",
       "    </tr>\n",
       "    <tr>\n",
       "      <th>Night Passage</th>\n",
       "      <td>0.997650</td>\n",
       "    </tr>\n",
       "    <tr>\n",
       "      <th>Foodfight!</th>\n",
       "      <td>0.997649</td>\n",
       "    </tr>\n",
       "    <tr>\n",
       "      <th>...</th>\n",
       "      <td>...</td>\n",
       "    </tr>\n",
       "    <tr>\n",
       "      <th>The Housemaid</th>\n",
       "      <td>0.976692</td>\n",
       "    </tr>\n",
       "    <tr>\n",
       "      <th>Cabin in the Sky</th>\n",
       "      <td>0.976462</td>\n",
       "    </tr>\n",
       "    <tr>\n",
       "      <th>Charlie and the Chocolate Factory</th>\n",
       "      <td>0.976064</td>\n",
       "    </tr>\n",
       "    <tr>\n",
       "      <th>The Lady Vanishes</th>\n",
       "      <td>0.975893</td>\n",
       "    </tr>\n",
       "    <tr>\n",
       "      <th>Magnum Force</th>\n",
       "      <td>0.975792</td>\n",
       "    </tr>\n",
       "    <tr>\n",
       "      <th>In Secret</th>\n",
       "      <td>0.975629</td>\n",
       "    </tr>\n",
       "    <tr>\n",
       "      <th>The Sentinel</th>\n",
       "      <td>0.974699</td>\n",
       "    </tr>\n",
       "    <tr>\n",
       "      <th>Buck and the Preacher</th>\n",
       "      <td>0.974627</td>\n",
       "    </tr>\n",
       "    <tr>\n",
       "      <th>Jaws 3-D</th>\n",
       "      <td>0.974621</td>\n",
       "    </tr>\n",
       "    <tr>\n",
       "      <th>Zero Dark Thirty</th>\n",
       "      <td>0.974261</td>\n",
       "    </tr>\n",
       "    <tr>\n",
       "      <th>Star Wars: Episode II - Attack of the Clones</th>\n",
       "      <td>0.974167</td>\n",
       "    </tr>\n",
       "    <tr>\n",
       "      <th>The Swimming Pool</th>\n",
       "      <td>0.973874</td>\n",
       "    </tr>\n",
       "    <tr>\n",
       "      <th>John Carter</th>\n",
       "      <td>0.973869</td>\n",
       "    </tr>\n",
       "    <tr>\n",
       "      <th>Friday the 13th Part 2</th>\n",
       "      <td>0.973811</td>\n",
       "    </tr>\n",
       "    <tr>\n",
       "      <th>Spider-Man 2</th>\n",
       "      <td>0.973714</td>\n",
       "    </tr>\n",
       "    <tr>\n",
       "      <th>Dirty Harry</th>\n",
       "      <td>0.972531</td>\n",
       "    </tr>\n",
       "    <tr>\n",
       "      <th>Follow That Bird</th>\n",
       "      <td>0.971476</td>\n",
       "    </tr>\n",
       "    <tr>\n",
       "      <th>Vicky Cristina Barcelona</th>\n",
       "      <td>0.971391</td>\n",
       "    </tr>\n",
       "    <tr>\n",
       "      <th>Chaar Sahibzaade</th>\n",
       "      <td>0.971182</td>\n",
       "    </tr>\n",
       "    <tr>\n",
       "      <th>Wake of Death</th>\n",
       "      <td>0.969139</td>\n",
       "    </tr>\n",
       "    <tr>\n",
       "      <th>The Wedding Banquet</th>\n",
       "      <td>0.968735</td>\n",
       "    </tr>\n",
       "    <tr>\n",
       "      <th>Olympus Has Fallen</th>\n",
       "      <td>0.968381</td>\n",
       "    </tr>\n",
       "    <tr>\n",
       "      <th>Casino Royale</th>\n",
       "      <td>0.963821</td>\n",
       "    </tr>\n",
       "    <tr>\n",
       "      <th>Hitchcock</th>\n",
       "      <td>0.963808</td>\n",
       "    </tr>\n",
       "    <tr>\n",
       "      <th>Safe House</th>\n",
       "      <td>0.963093</td>\n",
       "    </tr>\n",
       "    <tr>\n",
       "      <th>The Singing Nun</th>\n",
       "      <td>0.963020</td>\n",
       "    </tr>\n",
       "    <tr>\n",
       "      <th>The Enforcer</th>\n",
       "      <td>0.962385</td>\n",
       "    </tr>\n",
       "    <tr>\n",
       "      <th>Foxcatcher</th>\n",
       "      <td>0.956416</td>\n",
       "    </tr>\n",
       "    <tr>\n",
       "      <th>Hwasango</th>\n",
       "      <td>0.941187</td>\n",
       "    </tr>\n",
       "    <tr>\n",
       "      <th>Teaching Mrs. Tingle</th>\n",
       "      <td>0.932697</td>\n",
       "    </tr>\n",
       "  </tbody>\n",
       "</table>\n",
       "<p>27278 rows × 1 columns</p>\n",
       "</div>"
      ],
      "text/plain": [
       "                                                     0\n",
       "title                                                 \n",
       "Toy Story                                     1.000000\n",
       "The Minister                                  0.997950\n",
       "Parents                                       0.997948\n",
       "I Want You                                    0.997911\n",
       "Carry On Spying                               0.997907\n",
       "Hotel                                         0.997856\n",
       "Dinosaurus!                                   0.997852\n",
       "Time Bandits                                  0.997819\n",
       "Victor and the Secret of Crocodile Mansion    0.997819\n",
       "DarkWolf                                      0.997808\n",
       "She Cried No                                  0.997806\n",
       "The Great Yokai War                           0.997791\n",
       "Little Nemo: Adventures in Slumberland        0.997773\n",
       "Gang Related                                  0.997773\n",
       "Valley of the Bees                            0.997763\n",
       "Warriors of Virtue                            0.997720\n",
       "Paid                                          0.997715\n",
       "The We and the I                              0.997704\n",
       "The Bedroom Window                            0.997698\n",
       "Over Your Dead Body                           0.997697\n",
       "Cujo                                          0.997688\n",
       "Dealer                                        0.997688\n",
       "Spine Tingler! The William Castle Story       0.997682\n",
       "The Riot Club                                 0.997677\n",
       "Son of Babylon                                0.997672\n",
       "Watch the Birdie                              0.997657\n",
       "A Monkey's Tale                               0.997653\n",
       "The Wife                                      0.997650\n",
       "Night Passage                                 0.997650\n",
       "Foodfight!                                    0.997649\n",
       "...                                                ...\n",
       "The Housemaid                                 0.976692\n",
       "Cabin in the Sky                              0.976462\n",
       "Charlie and the Chocolate Factory             0.976064\n",
       "The Lady Vanishes                             0.975893\n",
       "Magnum Force                                  0.975792\n",
       "In Secret                                     0.975629\n",
       "The Sentinel                                  0.974699\n",
       "Buck and the Preacher                         0.974627\n",
       "Jaws 3-D                                      0.974621\n",
       "Zero Dark Thirty                              0.974261\n",
       "Star Wars: Episode II - Attack of the Clones  0.974167\n",
       "The Swimming Pool                             0.973874\n",
       "John Carter                                   0.973869\n",
       "Friday the 13th Part 2                        0.973811\n",
       "Spider-Man 2                                  0.973714\n",
       "Dirty Harry                                   0.972531\n",
       "Follow That Bird                              0.971476\n",
       "Vicky Cristina Barcelona                      0.971391\n",
       "Chaar Sahibzaade                              0.971182\n",
       "Wake of Death                                 0.969139\n",
       "The Wedding Banquet                           0.968735\n",
       "Olympus Has Fallen                            0.968381\n",
       "Casino Royale                                 0.963821\n",
       "Hitchcock                                     0.963808\n",
       "Safe House                                    0.963093\n",
       "The Singing Nun                               0.963020\n",
       "The Enforcer                                  0.962385\n",
       "Foxcatcher                                    0.956416\n",
       "Hwasango                                      0.941187\n",
       "Teaching Mrs. Tingle                          0.932697\n",
       "\n",
       "[27278 rows x 1 columns]"
      ]
     },
     "execution_count": 46,
     "metadata": {},
     "output_type": "execute_result"
    }
   ],
   "source": [
    "df_sim.sort_values(by=0, ascending=False)"
   ]
  },
  {
   "cell_type": "code",
   "execution_count": 53,
   "metadata": {},
   "outputs": [],
   "source": [
    "df_ratings = pd.read_csv('./datasets/ml-20m/ratings.csv')"
   ]
  },
  {
   "cell_type": "code",
   "execution_count": 54,
   "metadata": {},
   "outputs": [
    {
     "data": {
      "text/html": [
       "<div>\n",
       "<style scoped>\n",
       "    .dataframe tbody tr th:only-of-type {\n",
       "        vertical-align: middle;\n",
       "    }\n",
       "\n",
       "    .dataframe tbody tr th {\n",
       "        vertical-align: top;\n",
       "    }\n",
       "\n",
       "    .dataframe thead th {\n",
       "        text-align: right;\n",
       "    }\n",
       "</style>\n",
       "<table border=\"1\" class=\"dataframe\">\n",
       "  <thead>\n",
       "    <tr style=\"text-align: right;\">\n",
       "      <th></th>\n",
       "      <th>userId</th>\n",
       "      <th>movieId</th>\n",
       "      <th>rating</th>\n",
       "      <th>timestamp</th>\n",
       "    </tr>\n",
       "  </thead>\n",
       "  <tbody>\n",
       "    <tr>\n",
       "      <th>0</th>\n",
       "      <td>1</td>\n",
       "      <td>2</td>\n",
       "      <td>3.5</td>\n",
       "      <td>1112486027</td>\n",
       "    </tr>\n",
       "    <tr>\n",
       "      <th>1</th>\n",
       "      <td>1</td>\n",
       "      <td>29</td>\n",
       "      <td>3.5</td>\n",
       "      <td>1112484676</td>\n",
       "    </tr>\n",
       "    <tr>\n",
       "      <th>2</th>\n",
       "      <td>1</td>\n",
       "      <td>32</td>\n",
       "      <td>3.5</td>\n",
       "      <td>1112484819</td>\n",
       "    </tr>\n",
       "    <tr>\n",
       "      <th>3</th>\n",
       "      <td>1</td>\n",
       "      <td>47</td>\n",
       "      <td>3.5</td>\n",
       "      <td>1112484727</td>\n",
       "    </tr>\n",
       "    <tr>\n",
       "      <th>4</th>\n",
       "      <td>1</td>\n",
       "      <td>50</td>\n",
       "      <td>3.5</td>\n",
       "      <td>1112484580</td>\n",
       "    </tr>\n",
       "  </tbody>\n",
       "</table>\n",
       "</div>"
      ],
      "text/plain": [
       "   userId  movieId  rating   timestamp\n",
       "0       1        2     3.5  1112486027\n",
       "1       1       29     3.5  1112484676\n",
       "2       1       32     3.5  1112484819\n",
       "3       1       47     3.5  1112484727\n",
       "4       1       50     3.5  1112484580"
      ]
     },
     "execution_count": 54,
     "metadata": {},
     "output_type": "execute_result"
    }
   ],
   "source": [
    "df_ratings.head()"
   ]
  },
  {
   "cell_type": "code",
   "execution_count": 57,
   "metadata": {},
   "outputs": [],
   "source": [
    "df_ratings_1 = df_ratings[df_ratings['userId'] == 1]\n",
    "df_ratings_1.head()\n",
    "df_ratings_1 = df_ratings_1.drop(columns=['userId'])\n",
    "df_ratings_1.index = df_ratings_1['movieId']\n",
    "df_ratings_1 = df_ratings_1.drop(columns=['movieId', 'timestamp'])\n",
    "df_movies_1 = pd.DataFrame(X_emb, index=df_movies['movieId'])\n",
    "df_movies_1['title'] = df_movies['title'] \n",
    "df_movies_1['rating'] = df_ratings_1['rating']\n",
    "df_movies_1 = df_movies_1[df_movies_1['rating'].notna()]\n",
    "from sklearn.model_selection import train_test_split\n",
    "train, test = train_test_split(df_movies_1 , test_size=0.2)\n",
    "X_train = train.drop(columns=['rating','title'])\n",
    "y_train = train['rating']\n",
    "X_test = test.drop(columns=['rating','title'])\n",
    "y_test = test['rating']"
   ]
  },
  {
   "cell_type": "code",
   "execution_count": 58,
   "metadata": {},
   "outputs": [
    {
     "name": "stdout",
     "output_type": "stream",
     "text": [
      "RidgeCV: 0.10810139755559371\n",
      "BayesianRidge: 0.11312789479181184\n",
      "KernelRidge: 0.3057273501516637\n",
      "AdaBoostRegressor: 0.09596915387341931\n",
      "GradientBoostingRegressor: 0.11594643981730814\n"
     ]
    }
   ],
   "source": [
    "from sklearn.linear_model import LassoCV, RidgeCV, BayesianRidge\n",
    "from sklearn.kernel_ridge import KernelRidge\n",
    "from sklearn.ensemble import AdaBoostRegressor\n",
    "from sklearn.metrics import mean_squared_error\n",
    "from sklearn.ensemble import GradientBoostingRegressor\n",
    "#lasso = LassoCV(cv=5).fit(X_train, y_train)\n",
    "#print('LassoCV:',mean_squared_error(y_test, lasso.predict(X_test)))\n",
    "ridge = RidgeCV(cv=5).fit(X_train, y_train)\n",
    "print('RidgeCV:',mean_squared_error(y_test, ridge.predict(X_test)))\n",
    "bayesian = BayesianRidge().fit(X_train, y_train)\n",
    "print('BayesianRidge:',mean_squared_error(y_test, bayesian.predict(X_test)))\n",
    "kr = KernelRidge().fit(X_train, y_train)\n",
    "print('KernelRidge:',mean_squared_error(y_test, kr.predict(X_test)))\n",
    "ada = AdaBoostRegressor(random_state=0, n_estimators=100).fit(X_train, y_train)\n",
    "print('AdaBoostRegressor:',mean_squared_error(y_test, ada.predict(X_test)))\n",
    "gbr = GradientBoostingRegressor(n_estimators=100, learning_rate=0.1,max_depth=1, random_state=0, loss='ls').fit(X_train, y_train)\n",
    "print('GradientBoostingRegressor:',mean_squared_error(y_test, gbr.predict(X_test)))"
   ]
  },
  {
   "cell_type": "code",
   "execution_count": 59,
   "metadata": {},
   "outputs": [],
   "source": [
    "movies = pd.DataFrame(ridge.predict(X_test), index=test['title'])"
   ]
  },
  {
   "cell_type": "code",
   "execution_count": 60,
   "metadata": {},
   "outputs": [
    {
     "data": {
      "text/html": [
       "<div>\n",
       "<style scoped>\n",
       "    .dataframe tbody tr th:only-of-type {\n",
       "        vertical-align: middle;\n",
       "    }\n",
       "\n",
       "    .dataframe tbody tr th {\n",
       "        vertical-align: top;\n",
       "    }\n",
       "\n",
       "    .dataframe thead th {\n",
       "        text-align: right;\n",
       "    }\n",
       "</style>\n",
       "<table border=\"1\" class=\"dataframe\">\n",
       "  <thead>\n",
       "    <tr style=\"text-align: right;\">\n",
       "      <th></th>\n",
       "      <th>0</th>\n",
       "    </tr>\n",
       "    <tr>\n",
       "      <th>title</th>\n",
       "      <th></th>\n",
       "    </tr>\n",
       "  </thead>\n",
       "  <tbody>\n",
       "    <tr>\n",
       "      <th>Othello</th>\n",
       "      <td>3.886033</td>\n",
       "    </tr>\n",
       "    <tr>\n",
       "      <th>The Yards</th>\n",
       "      <td>3.824876</td>\n",
       "    </tr>\n",
       "    <tr>\n",
       "      <th>Bon Voyage, Charlie Brown (and Don't Come Back!!)</th>\n",
       "      <td>3.821023</td>\n",
       "    </tr>\n",
       "    <tr>\n",
       "      <th>Ghosts of Mississippi</th>\n",
       "      <td>3.790643</td>\n",
       "    </tr>\n",
       "    <tr>\n",
       "      <th>The Dark Mirror</th>\n",
       "      <td>3.780490</td>\n",
       "    </tr>\n",
       "    <tr>\n",
       "      <th>Strawberry and Chocolate</th>\n",
       "      <td>3.777942</td>\n",
       "    </tr>\n",
       "    <tr>\n",
       "      <th>Somewhere in Time</th>\n",
       "      <td>3.776485</td>\n",
       "    </tr>\n",
       "    <tr>\n",
       "      <th>C.H.U.D.</th>\n",
       "      <td>3.775172</td>\n",
       "    </tr>\n",
       "    <tr>\n",
       "      <th>Un Chien Andalou</th>\n",
       "      <td>3.773966</td>\n",
       "    </tr>\n",
       "    <tr>\n",
       "      <th>Skin Deep</th>\n",
       "      <td>3.762142</td>\n",
       "    </tr>\n",
       "    <tr>\n",
       "      <th>Top Gun</th>\n",
       "      <td>3.758615</td>\n",
       "    </tr>\n",
       "    <tr>\n",
       "      <th>Junior</th>\n",
       "      <td>3.753694</td>\n",
       "    </tr>\n",
       "    <tr>\n",
       "      <th>The Quiet Man</th>\n",
       "      <td>3.745818</td>\n",
       "    </tr>\n",
       "    <tr>\n",
       "      <th>American Strays</th>\n",
       "      <td>3.745004</td>\n",
       "    </tr>\n",
       "    <tr>\n",
       "      <th>The Evil Dead</th>\n",
       "      <td>3.743878</td>\n",
       "    </tr>\n",
       "    <tr>\n",
       "      <th>The Mark of Zorro</th>\n",
       "      <td>3.737877</td>\n",
       "    </tr>\n",
       "    <tr>\n",
       "      <th>Wings of Courage</th>\n",
       "      <td>3.724755</td>\n",
       "    </tr>\n",
       "    <tr>\n",
       "      <th>Hell's Kitchen</th>\n",
       "      <td>3.722899</td>\n",
       "    </tr>\n",
       "    <tr>\n",
       "      <th>Margaret's Museum</th>\n",
       "      <td>3.722524</td>\n",
       "    </tr>\n",
       "    <tr>\n",
       "      <th>Fried Green Tomatoes</th>\n",
       "      <td>3.713616</td>\n",
       "    </tr>\n",
       "    <tr>\n",
       "      <th>Robin Hood</th>\n",
       "      <td>3.713415</td>\n",
       "    </tr>\n",
       "    <tr>\n",
       "      <th>Without a Clue</th>\n",
       "      <td>3.712936</td>\n",
       "    </tr>\n",
       "    <tr>\n",
       "      <th>Champagne for Caesar</th>\n",
       "      <td>3.708725</td>\n",
       "    </tr>\n",
       "    <tr>\n",
       "      <th>The Lodger: A Story of the London Fog</th>\n",
       "      <td>3.707599</td>\n",
       "    </tr>\n",
       "    <tr>\n",
       "      <th>Monsoon Wedding</th>\n",
       "      <td>3.705713</td>\n",
       "    </tr>\n",
       "    <tr>\n",
       "      <th>The Full Monty</th>\n",
       "      <td>3.705479</td>\n",
       "    </tr>\n",
       "    <tr>\n",
       "      <th>Damn the Defiant!</th>\n",
       "      <td>3.703548</td>\n",
       "    </tr>\n",
       "    <tr>\n",
       "      <th>Kate &amp; Leopold</th>\n",
       "      <td>3.702898</td>\n",
       "    </tr>\n",
       "    <tr>\n",
       "      <th>The Hebrew Hammer</th>\n",
       "      <td>3.697375</td>\n",
       "    </tr>\n",
       "    <tr>\n",
       "      <th>The Incredibly True Adventure of Two Girls in Love</th>\n",
       "      <td>3.690686</td>\n",
       "    </tr>\n",
       "    <tr>\n",
       "      <th>Blame It on Rio</th>\n",
       "      <td>3.689545</td>\n",
       "    </tr>\n",
       "    <tr>\n",
       "      <th>The Event</th>\n",
       "      <td>3.679753</td>\n",
       "    </tr>\n",
       "    <tr>\n",
       "      <th>The Young Master</th>\n",
       "      <td>3.678516</td>\n",
       "    </tr>\n",
       "    <tr>\n",
       "      <th>Mary Poppins</th>\n",
       "      <td>3.669208</td>\n",
       "    </tr>\n",
       "    <tr>\n",
       "      <th>Blood and Wine</th>\n",
       "      <td>3.654855</td>\n",
       "    </tr>\n",
       "  </tbody>\n",
       "</table>\n",
       "</div>"
      ],
      "text/plain": [
       "                                                           0\n",
       "title                                                       \n",
       "Othello                                             3.886033\n",
       "The Yards                                           3.824876\n",
       "Bon Voyage, Charlie Brown (and Don't Come Back!!)   3.821023\n",
       "Ghosts of Mississippi                               3.790643\n",
       "The Dark Mirror                                     3.780490\n",
       "Strawberry and Chocolate                            3.777942\n",
       "Somewhere in Time                                   3.776485\n",
       "C.H.U.D.                                            3.775172\n",
       "Un Chien Andalou                                    3.773966\n",
       "Skin Deep                                           3.762142\n",
       "Top Gun                                             3.758615\n",
       "Junior                                              3.753694\n",
       "The Quiet Man                                       3.745818\n",
       "American Strays                                     3.745004\n",
       "The Evil Dead                                       3.743878\n",
       "The Mark of Zorro                                   3.737877\n",
       "Wings of Courage                                    3.724755\n",
       "Hell's Kitchen                                      3.722899\n",
       "Margaret's Museum                                   3.722524\n",
       "Fried Green Tomatoes                                3.713616\n",
       "Robin Hood                                          3.713415\n",
       "Without a Clue                                      3.712936\n",
       "Champagne for Caesar                                3.708725\n",
       "The Lodger: A Story of the London Fog               3.707599\n",
       "Monsoon Wedding                                     3.705713\n",
       "The Full Monty                                      3.705479\n",
       "Damn the Defiant!                                   3.703548\n",
       "Kate & Leopold                                      3.702898\n",
       "The Hebrew Hammer                                   3.697375\n",
       "The Incredibly True Adventure of Two Girls in Love  3.690686\n",
       "Blame It on Rio                                     3.689545\n",
       "The Event                                           3.679753\n",
       "The Young Master                                    3.678516\n",
       "Mary Poppins                                        3.669208\n",
       "Blood and Wine                                      3.654855"
      ]
     },
     "execution_count": 60,
     "metadata": {},
     "output_type": "execute_result"
    }
   ],
   "source": [
    "movies.sort_values(by=0, ascending=False)"
   ]
  },
  {
   "cell_type": "code",
   "execution_count": 61,
   "metadata": {},
   "outputs": [
    {
     "data": {
      "text/html": [
       "<div>\n",
       "<style scoped>\n",
       "    .dataframe tbody tr th:only-of-type {\n",
       "        vertical-align: middle;\n",
       "    }\n",
       "\n",
       "    .dataframe tbody tr th {\n",
       "        vertical-align: top;\n",
       "    }\n",
       "\n",
       "    .dataframe thead th {\n",
       "        text-align: right;\n",
       "    }\n",
       "</style>\n",
       "<table border=\"1\" class=\"dataframe\">\n",
       "  <thead>\n",
       "    <tr style=\"text-align: right;\">\n",
       "      <th></th>\n",
       "      <th>0</th>\n",
       "    </tr>\n",
       "    <tr>\n",
       "      <th>title</th>\n",
       "      <th></th>\n",
       "    </tr>\n",
       "  </thead>\n",
       "  <tbody>\n",
       "    <tr>\n",
       "      <th>Monsoon Wedding</th>\n",
       "      <td>4.0</td>\n",
       "    </tr>\n",
       "    <tr>\n",
       "      <th>Blood and Wine</th>\n",
       "      <td>4.0</td>\n",
       "    </tr>\n",
       "    <tr>\n",
       "      <th>The Quiet Man</th>\n",
       "      <td>4.0</td>\n",
       "    </tr>\n",
       "    <tr>\n",
       "      <th>Top Gun</th>\n",
       "      <td>4.0</td>\n",
       "    </tr>\n",
       "    <tr>\n",
       "      <th>Strawberry and Chocolate</th>\n",
       "      <td>4.0</td>\n",
       "    </tr>\n",
       "    <tr>\n",
       "      <th>The Evil Dead</th>\n",
       "      <td>4.0</td>\n",
       "    </tr>\n",
       "    <tr>\n",
       "      <th>Somewhere in Time</th>\n",
       "      <td>4.0</td>\n",
       "    </tr>\n",
       "    <tr>\n",
       "      <th>The Lodger: A Story of the London Fog</th>\n",
       "      <td>4.0</td>\n",
       "    </tr>\n",
       "    <tr>\n",
       "      <th>C.H.U.D.</th>\n",
       "      <td>4.0</td>\n",
       "    </tr>\n",
       "    <tr>\n",
       "      <th>Damn the Defiant!</th>\n",
       "      <td>4.0</td>\n",
       "    </tr>\n",
       "    <tr>\n",
       "      <th>Un Chien Andalou</th>\n",
       "      <td>4.0</td>\n",
       "    </tr>\n",
       "    <tr>\n",
       "      <th>Othello</th>\n",
       "      <td>4.0</td>\n",
       "    </tr>\n",
       "    <tr>\n",
       "      <th>Skin Deep</th>\n",
       "      <td>4.0</td>\n",
       "    </tr>\n",
       "    <tr>\n",
       "      <th>Kate &amp; Leopold</th>\n",
       "      <td>4.0</td>\n",
       "    </tr>\n",
       "    <tr>\n",
       "      <th>Blame It on Rio</th>\n",
       "      <td>4.0</td>\n",
       "    </tr>\n",
       "    <tr>\n",
       "      <th>The Incredibly True Adventure of Two Girls in Love</th>\n",
       "      <td>4.0</td>\n",
       "    </tr>\n",
       "    <tr>\n",
       "      <th>Junior</th>\n",
       "      <td>4.0</td>\n",
       "    </tr>\n",
       "    <tr>\n",
       "      <th>Without a Clue</th>\n",
       "      <td>4.0</td>\n",
       "    </tr>\n",
       "    <tr>\n",
       "      <th>Mary Poppins</th>\n",
       "      <td>3.5</td>\n",
       "    </tr>\n",
       "    <tr>\n",
       "      <th>The Hebrew Hammer</th>\n",
       "      <td>3.5</td>\n",
       "    </tr>\n",
       "    <tr>\n",
       "      <th>The Event</th>\n",
       "      <td>3.5</td>\n",
       "    </tr>\n",
       "    <tr>\n",
       "      <th>Wings of Courage</th>\n",
       "      <td>3.5</td>\n",
       "    </tr>\n",
       "    <tr>\n",
       "      <th>The Young Master</th>\n",
       "      <td>3.5</td>\n",
       "    </tr>\n",
       "    <tr>\n",
       "      <th>Margaret's Museum</th>\n",
       "      <td>3.5</td>\n",
       "    </tr>\n",
       "    <tr>\n",
       "      <th>The Full Monty</th>\n",
       "      <td>3.5</td>\n",
       "    </tr>\n",
       "    <tr>\n",
       "      <th>The Yards</th>\n",
       "      <td>3.5</td>\n",
       "    </tr>\n",
       "    <tr>\n",
       "      <th>Robin Hood</th>\n",
       "      <td>3.5</td>\n",
       "    </tr>\n",
       "    <tr>\n",
       "      <th>American Strays</th>\n",
       "      <td>3.5</td>\n",
       "    </tr>\n",
       "    <tr>\n",
       "      <th>The Mark of Zorro</th>\n",
       "      <td>3.5</td>\n",
       "    </tr>\n",
       "    <tr>\n",
       "      <th>The Dark Mirror</th>\n",
       "      <td>3.5</td>\n",
       "    </tr>\n",
       "    <tr>\n",
       "      <th>Champagne for Caesar</th>\n",
       "      <td>3.5</td>\n",
       "    </tr>\n",
       "    <tr>\n",
       "      <th>Hell's Kitchen</th>\n",
       "      <td>3.5</td>\n",
       "    </tr>\n",
       "    <tr>\n",
       "      <th>Bon Voyage, Charlie Brown (and Don't Come Back!!)</th>\n",
       "      <td>3.0</td>\n",
       "    </tr>\n",
       "    <tr>\n",
       "      <th>Ghosts of Mississippi</th>\n",
       "      <td>3.0</td>\n",
       "    </tr>\n",
       "    <tr>\n",
       "      <th>Fried Green Tomatoes</th>\n",
       "      <td>3.0</td>\n",
       "    </tr>\n",
       "  </tbody>\n",
       "</table>\n",
       "</div>"
      ],
      "text/plain": [
       "                                                      0\n",
       "title                                                  \n",
       "Monsoon Wedding                                     4.0\n",
       "Blood and Wine                                      4.0\n",
       "The Quiet Man                                       4.0\n",
       "Top Gun                                             4.0\n",
       "Strawberry and Chocolate                            4.0\n",
       "The Evil Dead                                       4.0\n",
       "Somewhere in Time                                   4.0\n",
       "The Lodger: A Story of the London Fog               4.0\n",
       "C.H.U.D.                                            4.0\n",
       "Damn the Defiant!                                   4.0\n",
       "Un Chien Andalou                                    4.0\n",
       "Othello                                             4.0\n",
       "Skin Deep                                           4.0\n",
       "Kate & Leopold                                      4.0\n",
       "Blame It on Rio                                     4.0\n",
       "The Incredibly True Adventure of Two Girls in Love  4.0\n",
       "Junior                                              4.0\n",
       "Without a Clue                                      4.0\n",
       "Mary Poppins                                        3.5\n",
       "The Hebrew Hammer                                   3.5\n",
       "The Event                                           3.5\n",
       "Wings of Courage                                    3.5\n",
       "The Young Master                                    3.5\n",
       "Margaret's Museum                                   3.5\n",
       "The Full Monty                                      3.5\n",
       "The Yards                                           3.5\n",
       "Robin Hood                                          3.5\n",
       "American Strays                                     3.5\n",
       "The Mark of Zorro                                   3.5\n",
       "The Dark Mirror                                     3.5\n",
       "Champagne for Caesar                                3.5\n",
       "Hell's Kitchen                                      3.5\n",
       "Bon Voyage, Charlie Brown (and Don't Come Back!!)   3.0\n",
       "Ghosts of Mississippi                               3.0\n",
       "Fried Green Tomatoes                                3.0"
      ]
     },
     "execution_count": 61,
     "metadata": {},
     "output_type": "execute_result"
    }
   ],
   "source": [
    "movies_true = pd.DataFrame(y_test.values, index=test['title'])\n",
    "movies_true.sort_values(by=0, ascending=False)"
   ]
  },
  {
   "cell_type": "code",
   "execution_count": 97,
   "metadata": {},
   "outputs": [
    {
     "data": {
      "text/plain": [
       "movieId\n",
       "2699    3.0\n",
       "2694    4.0\n",
       "1097    5.0\n",
       "2034    4.0\n",
       "2916    4.0\n",
       "1196    5.0\n",
       "318     5.0\n",
       "780     3.0\n",
       "589     4.0\n",
       "2808    4.0\n",
       "2797    4.0\n",
       "1228    3.0\n",
       "2948    4.0\n",
       "2448    5.0\n",
       "2118    5.0\n",
       "3039    5.0\n",
       "1258    5.0\n",
       "1288    2.0\n",
       "924     5.0\n",
       "1257    5.0\n",
       "1266    5.0\n",
       "2140    4.0\n",
       "2531    3.0\n",
       "490     5.0\n",
       "1810    3.0\n",
       "1221    5.0\n",
       "1831    5.0\n",
       "1779    3.0\n",
       "1       4.0\n",
       "904     5.0\n",
       "2541    1.0\n",
       "1676    5.0\n",
       "1214    5.0\n",
       "2455    4.0\n",
       "1674    4.0\n",
       "905     3.0\n",
       "1089    5.0\n",
       "1272    4.0\n",
       "Name: rating, dtype: float64"
      ]
     },
     "execution_count": 97,
     "metadata": {},
     "output_type": "execute_result"
    }
   ],
   "source": [
    "y_test"
   ]
  },
  {
   "cell_type": "code",
   "execution_count": null,
   "metadata": {},
   "outputs": [],
   "source": []
  }
 ],
 "metadata": {
  "kernelspec": {
   "display_name": "Python 3",
   "language": "python",
   "name": "python3"
  },
  "language_info": {
   "codemirror_mode": {
    "name": "ipython",
    "version": 3
   },
   "file_extension": ".py",
   "mimetype": "text/x-python",
   "name": "python",
   "nbconvert_exporter": "python",
   "pygments_lexer": "ipython3",
   "version": "3.6.5"
  }
 },
 "nbformat": 4,
 "nbformat_minor": 2
}
